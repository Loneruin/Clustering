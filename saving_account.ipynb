{
 "cells": [
  {
   "cell_type": "markdown",
   "id": "1f663ad6-9c5f-414a-997a-fc4f2f670127",
   "metadata": {},
   "source": [
    "## Mini Project III"
   ]
  },
  {
   "cell_type": "code",
   "execution_count": 1,
   "id": "e2c407b4-e22e-4841-9298-1488c5021edf",
   "metadata": {},
   "outputs": [],
   "source": [
    "import pandas as pd\n",
    "import numpy as np\n",
    "# import visualize\n",
    "import matplotlib.pyplot as plt\n",
    "import seaborn as sns\n",
    "# import Kmeans from sklearn\n",
    "from sklearn.preprocessing import RobustScaler\n",
    "from sklearn.preprocessing import StandardScaler\n",
    "from sklearn.cluster import KMeans\n",
    "# import DBSCAN\n",
    "from sklearn.cluster import DBSCAN\n",
    "# Aglomerative clustering\n",
    "from sklearn.cluster import AgglomerativeClustering\n",
    "from scipy.cluster.hierarchy import linkage\n",
    "from scipy.cluster.hierarchy import dendrogram\n",
    "# Cluster hierarchy\n",
    "import scipy.cluster.hierarchy as sch\n",
    "from scipy import stats"
   ]
  },
  {
   "cell_type": "markdown",
   "id": "6eb9aa21-9d54-49f8-80a1-8ba28bb65322",
   "metadata": {},
   "source": [
    "### Do they have savings account? How much do they save?"
   ]
  },
  {
   "cell_type": "code",
   "execution_count": 2,
   "id": "de224428-7440-4c36-a982-dc9455bcb317",
   "metadata": {},
   "outputs": [],
   "source": [
    "customer = pd.read_csv(\"D:\\Python(New)\\Project\\Project_Week_5\\Mini_Project_Week_5\\clean\\customer.csv\")"
   ]
  },
  {
   "cell_type": "code",
   "execution_count": 3,
   "id": "826faf27-0e4b-4cbc-a590-3fe347f8a9f8",
   "metadata": {},
   "outputs": [
    {
     "name": "stdout",
     "output_type": "stream",
     "text": [
      "|   age |     cust_id |   income |   years_with_bank |   nbr_children |   marital_status |   street_nbr |   postal_code |\n",
      "|------:|------------:|---------:|------------------:|---------------:|-----------------:|-------------:|--------------:|\n",
      "|    13 | 1.36287e+06 |     0    |           4.8     |       0        |          1       |      8804.2  |       74159.2 |\n",
      "|    14 | 1.36295e+06 |     0    |           6       |       0        |          1       |      9692.6  |       69021   |\n",
      "|    15 | 1.36297e+06 |     0    |           4.1875  |       0        |          1       |      7903.31 |       74254.9 |\n",
      "|    16 | 1.36304e+06 |     0    |           1       |       0        |          1       |     10150.9  |       64658.9 |\n",
      "|    17 | 1.36299e+06 |     0    |           2       |       0        |          1       |      7545.38 |       41598   |\n",
      "|    18 | 1.36295e+06 |  9722.9  |           3       |       0        |          1       |     10306.8  |       62792.2 |\n",
      "|    19 | 1.36299e+06 | 10992    |           3.47059 |       0        |          1       |      7442.94 |       60267.8 |\n",
      "|    20 | 1.36347e+06 |  3339    |           5       |       0        |          1       |      9312    |       94239   |\n",
      "|    21 | 1.36313e+06 | 15472.5  |           0       |       0.25     |          1.25    |      9622.5  |       19775.2 |\n",
      "|    22 | 1.36322e+06 | 10839.8  |           1       |       0.375    |          2       |      8831.12 |       47092.5 |\n",
      "|    23 | 1.36324e+06 | 12952.1  |           2       |       1        |          2.5     |      3159.5  |       56395.2 |\n",
      "|    24 | 1.36293e+06 | 20660    |           3       |       1        |          2.4     |      6050    |       67439.8 |\n",
      "|    25 | 1.36302e+06 | 16485    |           4       |       0.714286 |          1.85714 |      8662    |       57026.3 |\n",
      "|    26 | 1.3631e+06  |  8689.75 |           4.625   |       0.5      |          1.75    |      9418.38 |       68801.2 |\n",
      "|    27 | 1.363e+06   | 11786.2  |           5.66667 |       1.16667  |          1.83333 |      5114.17 |       59849.7 |\n",
      "|    28 | 1.36302e+06 |  9376.9  |           6       |       0.5      |          1.5     |      6759.1  |       44192.7 |\n",
      "|    29 | 1.36316e+06 | 11078.9  |           7.63636 |       0.818182 |          2.36364 |      6731.73 |       64765.8 |\n",
      "|    30 | 1.36299e+06 | 31211.3  |           0       |       1.93333  |          2.26667 |      9373.33 |       46950.9 |\n",
      "|    31 | 1.3629e+06  | 29937.4  |           1       |       1.92308  |          2.30769 |      8737.38 |       59698.4 |\n",
      "|    32 | 1.36297e+06 | 28466.3  |           1.92308 |       1.30769  |          2       |     12184.9  |       66964.4 |\n",
      "|    33 | 1.36294e+06 | 24712.9  |           2.93333 |       2.33333  |          2.4     |      7475.93 |       56190.9 |\n",
      "|    34 | 1.36301e+06 | 25110.3  |           3.91667 |       0.75     |          2.08333 |      9985.08 |       71046.7 |\n",
      "|    35 | 1.36301e+06 | 32831.9  |           4.30769 |       1.84615  |          2.38462 |      7534.46 |       54191.2 |\n",
      "|    36 | 1.36292e+06 | 32393.9  |           5.6875  |       1.8125   |          2.4375  |     10685.4  |       57499.6 |\n",
      "|    37 | 1.36296e+06 | 28058.8  |           6.11111 |       1.11111  |          1.88889 |      7637    |       50627.9 |\n",
      "|    38 | 1.36321e+06 | 25089.8  |           6.27273 |       1.63636  |          2       |      7798.18 |       64869.5 |\n",
      "|    39 | 1.363e+06   | 27081.5  |           8       |       1.14286  |          1.57143 |     10116    |       66266.8 |\n",
      "|    40 | 1.36293e+06 | 32004.9  |           0       |       1.27778  |          2.5     |      7181.94 |       75420   |\n",
      "|    41 | 1.36311e+06 | 28576.4  |           1       |       1.11765  |          1.94118 |      5915.41 |       56914.9 |\n",
      "|    42 | 1.36288e+06 | 27727.5  |           2       |       1.2      |          1.7     |      8328.1  |       63947   |\n",
      "|    43 | 1.36295e+06 | 49542.9  |           2.91667 |       2        |          2.25    |      9118.33 |       63199.9 |\n",
      "|    44 | 1.36297e+06 | 27547.9  |           3.69231 |       1        |          1.76923 |      9161.54 |       54557.5 |\n",
      "|    45 | 1.36308e+06 | 24676.7  |           4.33333 |       0.666667 |          1.5     |      9966    |       58967.7 |\n",
      "|    46 | 1.36296e+06 | 29766.3  |           5.42105 |       1.15789  |          1.73684 |     10718.7  |       56997.2 |\n",
      "|    47 | 1.36294e+06 | 33792.9  |           6.875   |       1.875    |          2       |      6936.5  |       71807.2 |\n",
      "|    48 | 1.36303e+06 | 31374.8  |           7.33333 |       1        |          1.5     |     10016.9  |       45559.4 |\n",
      "|    49 | 1.36292e+06 | 27782.5  |           6.90909 |       0.454545 |          1.54545 |      9562.36 |       72317.6 |\n",
      "|    50 | 1.36302e+06 | 40596.1  |           0       |       0.947368 |          2.21053 |      8767.63 |       58885.5 |\n",
      "|    51 | 1.36299e+06 | 36182.1  |           1       |       0.777778 |          1.77778 |      4905.44 |       69592.2 |\n",
      "|    52 | 1.36305e+06 | 41316.4  |           2       |       1        |          2.07143 |      9964.86 |       71254.5 |\n",
      "|    53 | 1.363e+06   | 37192.6  |           2.71429 |       1        |          2.28571 |      8064.57 |       62587.9 |\n",
      "|    54 | 1.36302e+06 | 48051.8  |           3.58333 |       0.833333 |          2.41667 |     10289.3  |       60776.2 |\n",
      "|    55 | 1.36308e+06 | 43151    |           4.9     |       0.85     |          2.35    |      7971.2  |       63139.7 |\n",
      "|    56 | 1.36298e+06 | 43832.7  |           6       |       1.25     |          2.16667 |     12036.8  |       52657.4 |\n",
      "|    57 | 1.36299e+06 | 46512.2  |           6.88235 |       0.647059 |          1.94118 |      7897.35 |       57309.6 |\n",
      "|    58 | 1.36305e+06 | 59940.9  |           7.25    |       1        |          2.41667 |      8798.83 |       74352.2 |\n",
      "|    59 | 1.36295e+06 | 38209.2  |           9       |       0.888889 |          2.44444 |      6751.78 |       44901.8 |\n",
      "|    60 | 1.36297e+06 | 17019.5  |           0       |       0        |          2       |      8976.64 |       41997.4 |\n",
      "|    61 | 1.36291e+06 |  9877.57 |           1       |       0        |          2.14286 |     14979.1  |       50994.1 |\n",
      "|    62 | 1.3628e+06  | 19454.7  |           2       |       0        |          1.83333 |      5487.5  |       46945.3 |\n",
      "|    63 | 1.36294e+06 | 15621.3  |           3       |       0        |          2.16667 |      8307    |       50109   |\n",
      "|    64 | 1.36298e+06 | 20910.4  |           3.66667 |       0        |          2       |     10690.8  |       70850.4 |\n",
      "|    65 | 1.36308e+06 | 14937.7  |           5       |       0        |          2.2     |      9921.1  |       25781.2 |\n",
      "|    66 | 1.36302e+06 | 15527    |           5.92308 |       0        |          2.30769 |      6159.46 |       62646   |\n",
      "|    67 | 1.36318e+06 | 21003.3  |           5       |       0        |          2       |      7716.67 |       42646.7 |\n",
      "|    68 | 1.36295e+06 | 20482.5  |           7.16667 |       0        |          2.16667 |      8319.5  |       55487.8 |\n",
      "|    69 | 1.36298e+06 | 19429.5  |           8       |       0        |          1.81818 |      6907.27 |       52904.4 |\n",
      "|    70 | 1.36311e+06 | 14804.4  |           0       |       0        |          3.2     |      6412.6  |       41269.8 |\n",
      "|    71 | 1.36256e+06 |  5165.5  |           1       |       0        |          2       |     11217.5  |       87941.5 |\n",
      "|    72 | 1.3632e+06  | 11795    |           2       |       0        |          2       |      8239.33 |       62390.7 |\n",
      "|    73 | 1.36275e+06 | 15938    |           3       |       0        |          2       |      5235.4  |       76533.6 |\n",
      "|    74 | 1.36292e+06 | 12151.4  |           4       |       0        |          2       |      7694.4  |       40110.6 |\n",
      "|    75 | 1.3631e+06  | 18635    |           5       |       0        |          2.66667 |      9124.67 |       61312.7 |\n",
      "|    76 | 1.36272e+06 | 12301    |           6       |       0        |          2.5     |     10600    |       42698.5 |\n",
      "|    77 | 1.36265e+06 | 11661.2  |           7       |       0        |          2       |      9318.33 |       63224.8 |\n",
      "|    78 | 1.3628e+06  |  4626    |           8       |       0        |          3       |      6006    |       10105   |\n",
      "|    79 | 1.3629e+06  |  6110.2  |           8.8     |       0        |          2       |      7652.8  |       68062.2 |\n",
      "|    80 | 1.36308e+06 |  6530.75 |           0       |       0        |          2.25    |      3169.5  |       36920.2 |\n",
      "|    81 | 1.36285e+06 | 12544    |           1       |       0        |          2       |     12546    |       52125   |\n",
      "|    82 | 1.36291e+06 |  6476    |           2       |       0        |          1.8     |      5064    |       48945.6 |\n",
      "|    83 | 1.36278e+06 |  5566    |           3       |       0        |          2       |     13587.2  |       53374   |\n",
      "|    84 | 1.36288e+06 |  6446    |           4       |       0        |          1.66667 |      5491.33 |       46893.3 |\n",
      "|    85 | 1.36339e+06 | 12033    |           5       |       0        |          2       |      8421    |       74146   |\n",
      "|    86 | 1.36285e+06 |  8961    |           6       |       0        |          4       |      3247    |       89149   |\n",
      "|    87 | 1.36283e+06 |  3994    |           7       |       0        |          2       |      4080    |       10248   |\n",
      "|    88 | 1.36325e+06 |  8196.33 |           8       |       0        |          2.66667 |      6897.33 |       81419   |\n",
      "|    89 | 1.36263e+06 |  7209    |           9       |       0        |          2       |      4794.5  |       49733   |\n"
     ]
    }
   ],
   "source": [
    "customer.groupby(['age']).mean()\n",
    "print(customer.groupby(['age']).mean().to_markdown())"
   ]
  },
  {
   "cell_type": "code",
   "execution_count": 4,
   "id": "dccdd73c-b802-423d-a3fc-82dcac3a1400",
   "metadata": {},
   "outputs": [],
   "source": [
    "customer_age = customer[['cust_id','age']]"
   ]
  },
  {
   "cell_type": "code",
   "execution_count": 5,
   "id": "f084b358-c434-41ee-9571-69e733d2c567",
   "metadata": {},
   "outputs": [
    {
     "name": "stderr",
     "output_type": "stream",
     "text": [
      "C:\\Users\\quang\\AppData\\Local\\Temp\\ipykernel_11080\\1278101733.py:1: SettingWithCopyWarning: \n",
      "A value is trying to be set on a copy of a slice from a DataFrame.\n",
      "Try using .loc[row_indexer,col_indexer] = value instead\n",
      "\n",
      "See the caveats in the documentation: https://pandas.pydata.org/pandas-docs/stable/user_guide/indexing.html#returning-a-view-versus-a-copy\n",
      "  customer_age['age_bin'] = pd.cut(x = customer_age['age'], bins = [13, 20, 40, 60, 90])\n"
     ]
    }
   ],
   "source": [
    "customer_age['age_bin'] = pd.cut(x = customer_age['age'], bins = [13, 20, 40, 60, 90])"
   ]
  },
  {
   "cell_type": "code",
   "execution_count": 6,
   "id": "5d491cda-3527-4d8d-98dd-efef366e2fa1",
   "metadata": {},
   "outputs": [
    {
     "data": {
      "text/html": [
       "<div>\n",
       "<style scoped>\n",
       "    .dataframe tbody tr th:only-of-type {\n",
       "        vertical-align: middle;\n",
       "    }\n",
       "\n",
       "    .dataframe tbody tr th {\n",
       "        vertical-align: top;\n",
       "    }\n",
       "\n",
       "    .dataframe thead th {\n",
       "        text-align: right;\n",
       "    }\n",
       "</style>\n",
       "<table border=\"1\" class=\"dataframe\">\n",
       "  <thead>\n",
       "    <tr style=\"text-align: right;\">\n",
       "      <th></th>\n",
       "      <th>cust_id</th>\n",
       "      <th>age</th>\n",
       "      <th>age_bin</th>\n",
       "    </tr>\n",
       "  </thead>\n",
       "  <tbody>\n",
       "    <tr>\n",
       "      <th>0</th>\n",
       "      <td>1362691</td>\n",
       "      <td>46</td>\n",
       "      <td>(40, 60]</td>\n",
       "    </tr>\n",
       "    <tr>\n",
       "      <th>1</th>\n",
       "      <td>1362487</td>\n",
       "      <td>71</td>\n",
       "      <td>(60, 90]</td>\n",
       "    </tr>\n",
       "    <tr>\n",
       "      <th>2</th>\n",
       "      <td>1363160</td>\n",
       "      <td>38</td>\n",
       "      <td>(20, 40]</td>\n",
       "    </tr>\n",
       "    <tr>\n",
       "      <th>3</th>\n",
       "      <td>1362752</td>\n",
       "      <td>54</td>\n",
       "      <td>(40, 60]</td>\n",
       "    </tr>\n",
       "    <tr>\n",
       "      <th>4</th>\n",
       "      <td>1362548</td>\n",
       "      <td>59</td>\n",
       "      <td>(40, 60]</td>\n",
       "    </tr>\n",
       "    <tr>\n",
       "      <th>...</th>\n",
       "      <td>...</td>\n",
       "      <td>...</td>\n",
       "      <td>...</td>\n",
       "    </tr>\n",
       "    <tr>\n",
       "      <th>742</th>\n",
       "      <td>1363324</td>\n",
       "      <td>36</td>\n",
       "      <td>(20, 40]</td>\n",
       "    </tr>\n",
       "    <tr>\n",
       "      <th>743</th>\n",
       "      <td>1362895</td>\n",
       "      <td>56</td>\n",
       "      <td>(40, 60]</td>\n",
       "    </tr>\n",
       "    <tr>\n",
       "      <th>744</th>\n",
       "      <td>1362569</td>\n",
       "      <td>50</td>\n",
       "      <td>(40, 60]</td>\n",
       "    </tr>\n",
       "    <tr>\n",
       "      <th>745</th>\n",
       "      <td>1363364</td>\n",
       "      <td>37</td>\n",
       "      <td>(20, 40]</td>\n",
       "    </tr>\n",
       "    <tr>\n",
       "      <th>746</th>\n",
       "      <td>1363303</td>\n",
       "      <td>18</td>\n",
       "      <td>(13, 20]</td>\n",
       "    </tr>\n",
       "  </tbody>\n",
       "</table>\n",
       "<p>747 rows × 3 columns</p>\n",
       "</div>"
      ],
      "text/plain": [
       "     cust_id  age   age_bin\n",
       "0    1362691   46  (40, 60]\n",
       "1    1362487   71  (60, 90]\n",
       "2    1363160   38  (20, 40]\n",
       "3    1362752   54  (40, 60]\n",
       "4    1362548   59  (40, 60]\n",
       "..       ...  ...       ...\n",
       "742  1363324   36  (20, 40]\n",
       "743  1362895   56  (40, 60]\n",
       "744  1362569   50  (40, 60]\n",
       "745  1363364   37  (20, 40]\n",
       "746  1363303   18  (13, 20]\n",
       "\n",
       "[747 rows x 3 columns]"
      ]
     },
     "execution_count": 6,
     "metadata": {},
     "output_type": "execute_result"
    }
   ],
   "source": [
    "customer_age"
   ]
  },
  {
   "cell_type": "code",
   "execution_count": 7,
   "id": "a6e1abe3-0abb-4b57-986c-dd0e461e6ec5",
   "metadata": {},
   "outputs": [],
   "source": [
    "# get age_bin dummy\n",
    "age_data = pd.get_dummies(customer_age, columns = ['age_bin']).drop(columns = ['cust_id'])\n",
    "# concatenate with the previous dataframe\n",
    "customer_age_data = pd.concat([customer_age,age_data], ignore_index=False, axis = 1).drop(columns = ['age'])"
   ]
  },
  {
   "cell_type": "code",
   "execution_count": 8,
   "id": "acb406d6-3bf8-4b78-8eb0-d5718fecb2ca",
   "metadata": {},
   "outputs": [
    {
     "data": {
      "text/html": [
       "<div>\n",
       "<style scoped>\n",
       "    .dataframe tbody tr th:only-of-type {\n",
       "        vertical-align: middle;\n",
       "    }\n",
       "\n",
       "    .dataframe tbody tr th {\n",
       "        vertical-align: top;\n",
       "    }\n",
       "\n",
       "    .dataframe thead th {\n",
       "        text-align: right;\n",
       "    }\n",
       "</style>\n",
       "<table border=\"1\" class=\"dataframe\">\n",
       "  <thead>\n",
       "    <tr style=\"text-align: right;\">\n",
       "      <th></th>\n",
       "      <th>cust_id</th>\n",
       "      <th>age_bin</th>\n",
       "      <th>age_bin_(13, 20]</th>\n",
       "      <th>age_bin_(20, 40]</th>\n",
       "      <th>age_bin_(40, 60]</th>\n",
       "      <th>age_bin_(60, 90]</th>\n",
       "    </tr>\n",
       "  </thead>\n",
       "  <tbody>\n",
       "    <tr>\n",
       "      <th>0</th>\n",
       "      <td>1362691</td>\n",
       "      <td>(40, 60]</td>\n",
       "      <td>0</td>\n",
       "      <td>0</td>\n",
       "      <td>1</td>\n",
       "      <td>0</td>\n",
       "    </tr>\n",
       "    <tr>\n",
       "      <th>1</th>\n",
       "      <td>1362487</td>\n",
       "      <td>(60, 90]</td>\n",
       "      <td>0</td>\n",
       "      <td>0</td>\n",
       "      <td>0</td>\n",
       "      <td>1</td>\n",
       "    </tr>\n",
       "    <tr>\n",
       "      <th>2</th>\n",
       "      <td>1363160</td>\n",
       "      <td>(20, 40]</td>\n",
       "      <td>0</td>\n",
       "      <td>1</td>\n",
       "      <td>0</td>\n",
       "      <td>0</td>\n",
       "    </tr>\n",
       "    <tr>\n",
       "      <th>3</th>\n",
       "      <td>1362752</td>\n",
       "      <td>(40, 60]</td>\n",
       "      <td>0</td>\n",
       "      <td>0</td>\n",
       "      <td>1</td>\n",
       "      <td>0</td>\n",
       "    </tr>\n",
       "    <tr>\n",
       "      <th>4</th>\n",
       "      <td>1362548</td>\n",
       "      <td>(40, 60]</td>\n",
       "      <td>0</td>\n",
       "      <td>0</td>\n",
       "      <td>1</td>\n",
       "      <td>0</td>\n",
       "    </tr>\n",
       "    <tr>\n",
       "      <th>...</th>\n",
       "      <td>...</td>\n",
       "      <td>...</td>\n",
       "      <td>...</td>\n",
       "      <td>...</td>\n",
       "      <td>...</td>\n",
       "      <td>...</td>\n",
       "    </tr>\n",
       "    <tr>\n",
       "      <th>742</th>\n",
       "      <td>1363324</td>\n",
       "      <td>(20, 40]</td>\n",
       "      <td>0</td>\n",
       "      <td>1</td>\n",
       "      <td>0</td>\n",
       "      <td>0</td>\n",
       "    </tr>\n",
       "    <tr>\n",
       "      <th>743</th>\n",
       "      <td>1362895</td>\n",
       "      <td>(40, 60]</td>\n",
       "      <td>0</td>\n",
       "      <td>0</td>\n",
       "      <td>1</td>\n",
       "      <td>0</td>\n",
       "    </tr>\n",
       "    <tr>\n",
       "      <th>744</th>\n",
       "      <td>1362569</td>\n",
       "      <td>(40, 60]</td>\n",
       "      <td>0</td>\n",
       "      <td>0</td>\n",
       "      <td>1</td>\n",
       "      <td>0</td>\n",
       "    </tr>\n",
       "    <tr>\n",
       "      <th>745</th>\n",
       "      <td>1363364</td>\n",
       "      <td>(20, 40]</td>\n",
       "      <td>0</td>\n",
       "      <td>1</td>\n",
       "      <td>0</td>\n",
       "      <td>0</td>\n",
       "    </tr>\n",
       "    <tr>\n",
       "      <th>746</th>\n",
       "      <td>1363303</td>\n",
       "      <td>(13, 20]</td>\n",
       "      <td>1</td>\n",
       "      <td>0</td>\n",
       "      <td>0</td>\n",
       "      <td>0</td>\n",
       "    </tr>\n",
       "  </tbody>\n",
       "</table>\n",
       "<p>747 rows × 6 columns</p>\n",
       "</div>"
      ],
      "text/plain": [
       "     cust_id   age_bin  age_bin_(13, 20]  age_bin_(20, 40]  age_bin_(40, 60]  \\\n",
       "0    1362691  (40, 60]                 0                 0                 1   \n",
       "1    1362487  (60, 90]                 0                 0                 0   \n",
       "2    1363160  (20, 40]                 0                 1                 0   \n",
       "3    1362752  (40, 60]                 0                 0                 1   \n",
       "4    1362548  (40, 60]                 0                 0                 1   \n",
       "..       ...       ...               ...               ...               ...   \n",
       "742  1363324  (20, 40]                 0                 1                 0   \n",
       "743  1362895  (40, 60]                 0                 0                 1   \n",
       "744  1362569  (40, 60]                 0                 0                 1   \n",
       "745  1363364  (20, 40]                 0                 1                 0   \n",
       "746  1363303  (13, 20]                 1                 0                 0   \n",
       "\n",
       "     age_bin_(60, 90]  \n",
       "0                   0  \n",
       "1                   1  \n",
       "2                   0  \n",
       "3                   0  \n",
       "4                   0  \n",
       "..                ...  \n",
       "742                 0  \n",
       "743                 0  \n",
       "744                 0  \n",
       "745                 0  \n",
       "746                 0  \n",
       "\n",
       "[747 rows x 6 columns]"
      ]
     },
     "execution_count": 8,
     "metadata": {},
     "output_type": "execute_result"
    }
   ],
   "source": [
    "customer_age_data"
   ]
  },
  {
   "cell_type": "code",
   "execution_count": 9,
   "id": "670bfffb-3087-4d08-bf3c-f664a1b50ae3",
   "metadata": {},
   "outputs": [],
   "source": [
    "saving_accounts = pd.read_csv(\"D:\\Python(New)\\Project\\Project_Week_5\\Mini_Project_Week_5\\clean\\saving_accounts.csv\").drop(columns = ['acct_start_date','acct_end_date'])\n",
    "saving_transaction = pd.read_csv(\"D:\\Python(New)\\Project\\Project_Week_5\\Mini_Project_Week_5\\clean\\saving_transactions.csv\")"
   ]
  },
  {
   "cell_type": "code",
   "execution_count": 10,
   "id": "f61430d1-7e85-40a3-ae62-5085875f14c3",
   "metadata": {},
   "outputs": [
    {
     "data": {
      "text/html": [
       "<div>\n",
       "<style scoped>\n",
       "    .dataframe tbody tr th:only-of-type {\n",
       "        vertical-align: middle;\n",
       "    }\n",
       "\n",
       "    .dataframe tbody tr th {\n",
       "        vertical-align: top;\n",
       "    }\n",
       "\n",
       "    .dataframe thead th {\n",
       "        text-align: right;\n",
       "    }\n",
       "</style>\n",
       "<table border=\"1\" class=\"dataframe\">\n",
       "  <thead>\n",
       "    <tr style=\"text-align: right;\">\n",
       "      <th></th>\n",
       "      <th>cust_id</th>\n",
       "      <th>acct_nbr</th>\n",
       "      <th>minimum_balance</th>\n",
       "      <th>acct_type</th>\n",
       "      <th>account_active</th>\n",
       "      <th>starting_balance</th>\n",
       "      <th>ending_balance</th>\n",
       "    </tr>\n",
       "  </thead>\n",
       "  <tbody>\n",
       "    <tr>\n",
       "      <th>0</th>\n",
       "      <td>1363160</td>\n",
       "      <td>13631603</td>\n",
       "      <td>100</td>\n",
       "      <td>BS</td>\n",
       "      <td>Y</td>\n",
       "      <td>113.04</td>\n",
       "      <td>122.54</td>\n",
       "    </tr>\n",
       "    <tr>\n",
       "      <th>1</th>\n",
       "      <td>1362487</td>\n",
       "      <td>13624873</td>\n",
       "      <td>500</td>\n",
       "      <td>MM</td>\n",
       "      <td>N</td>\n",
       "      <td>651.73</td>\n",
       "      <td>12.89</td>\n",
       "    </tr>\n",
       "    <tr>\n",
       "      <th>2</th>\n",
       "      <td>1362548</td>\n",
       "      <td>13625483</td>\n",
       "      <td>100</td>\n",
       "      <td>BS</td>\n",
       "      <td>Y</td>\n",
       "      <td>250.24</td>\n",
       "      <td>254.02</td>\n",
       "    </tr>\n",
       "    <tr>\n",
       "      <th>3</th>\n",
       "      <td>1362752</td>\n",
       "      <td>13627523</td>\n",
       "      <td>100</td>\n",
       "      <td>BS</td>\n",
       "      <td>Y</td>\n",
       "      <td>600.26</td>\n",
       "      <td>609.33</td>\n",
       "    </tr>\n",
       "    <tr>\n",
       "      <th>4</th>\n",
       "      <td>1363017</td>\n",
       "      <td>13630173</td>\n",
       "      <td>100</td>\n",
       "      <td>BS</td>\n",
       "      <td>N</td>\n",
       "      <td>2011.02</td>\n",
       "      <td>2901.35</td>\n",
       "    </tr>\n",
       "    <tr>\n",
       "      <th>...</th>\n",
       "      <td>...</td>\n",
       "      <td>...</td>\n",
       "      <td>...</td>\n",
       "      <td>...</td>\n",
       "      <td>...</td>\n",
       "      <td>...</td>\n",
       "      <td>...</td>\n",
       "    </tr>\n",
       "    <tr>\n",
       "      <th>416</th>\n",
       "      <td>1363141</td>\n",
       "      <td>13631413</td>\n",
       "      <td>100</td>\n",
       "      <td>BS</td>\n",
       "      <td>Y</td>\n",
       "      <td>177.33</td>\n",
       "      <td>528.57</td>\n",
       "    </tr>\n",
       "    <tr>\n",
       "      <th>417</th>\n",
       "      <td>1363038</td>\n",
       "      <td>13630383</td>\n",
       "      <td>100</td>\n",
       "      <td>BS</td>\n",
       "      <td>Y</td>\n",
       "      <td>333.53</td>\n",
       "      <td>508.26</td>\n",
       "    </tr>\n",
       "    <tr>\n",
       "      <th>418</th>\n",
       "      <td>1362529</td>\n",
       "      <td>13625293</td>\n",
       "      <td>100</td>\n",
       "      <td>BS</td>\n",
       "      <td>Y</td>\n",
       "      <td>662.06</td>\n",
       "      <td>873.14</td>\n",
       "    </tr>\n",
       "    <tr>\n",
       "      <th>419</th>\n",
       "      <td>1362895</td>\n",
       "      <td>13628953</td>\n",
       "      <td>100</td>\n",
       "      <td>BS</td>\n",
       "      <td>Y</td>\n",
       "      <td>169.96</td>\n",
       "      <td>96.25</td>\n",
       "    </tr>\n",
       "    <tr>\n",
       "      <th>420</th>\n",
       "      <td>1362855</td>\n",
       "      <td>13628553</td>\n",
       "      <td>100</td>\n",
       "      <td>BS</td>\n",
       "      <td>Y</td>\n",
       "      <td>167.71</td>\n",
       "      <td>161.04</td>\n",
       "    </tr>\n",
       "  </tbody>\n",
       "</table>\n",
       "<p>421 rows × 7 columns</p>\n",
       "</div>"
      ],
      "text/plain": [
       "     cust_id  acct_nbr  minimum_balance acct_type account_active  \\\n",
       "0    1363160  13631603              100        BS              Y   \n",
       "1    1362487  13624873              500        MM              N   \n",
       "2    1362548  13625483              100        BS              Y   \n",
       "3    1362752  13627523              100        BS              Y   \n",
       "4    1363017  13630173              100        BS              N   \n",
       "..       ...       ...              ...       ...            ...   \n",
       "416  1363141  13631413              100        BS              Y   \n",
       "417  1363038  13630383              100        BS              Y   \n",
       "418  1362529  13625293              100        BS              Y   \n",
       "419  1362895  13628953              100        BS              Y   \n",
       "420  1362855  13628553              100        BS              Y   \n",
       "\n",
       "     starting_balance  ending_balance  \n",
       "0              113.04          122.54  \n",
       "1              651.73           12.89  \n",
       "2              250.24          254.02  \n",
       "3              600.26          609.33  \n",
       "4             2011.02         2901.35  \n",
       "..                ...             ...  \n",
       "416            177.33          528.57  \n",
       "417            333.53          508.26  \n",
       "418            662.06          873.14  \n",
       "419            169.96           96.25  \n",
       "420            167.71          161.04  \n",
       "\n",
       "[421 rows x 7 columns]"
      ]
     },
     "execution_count": 10,
     "metadata": {},
     "output_type": "execute_result"
    }
   ],
   "source": [
    "saving_accounts"
   ]
  },
  {
   "cell_type": "code",
   "execution_count": 11,
   "id": "a473f2f5-cfd5-43ed-a01c-71b429427971",
   "metadata": {},
   "outputs": [],
   "source": [
    "saving_accounts['account_active'] = saving_accounts['account_active'].replace({'Y':1,'N':0})"
   ]
  },
  {
   "cell_type": "code",
   "execution_count": 12,
   "id": "16beef2e-5e6d-439d-9839-ee9a0e26ba51",
   "metadata": {},
   "outputs": [],
   "source": [
    "customer_saving = pd.merge(saving_accounts, customer_age_data, how = 'inner')"
   ]
  },
  {
   "cell_type": "code",
   "execution_count": 13,
   "id": "192cfa36-e535-4c2c-9a27-6fc9cb908296",
   "metadata": {},
   "outputs": [
    {
     "data": {
      "text/html": [
       "<div>\n",
       "<style scoped>\n",
       "    .dataframe tbody tr th:only-of-type {\n",
       "        vertical-align: middle;\n",
       "    }\n",
       "\n",
       "    .dataframe tbody tr th {\n",
       "        vertical-align: top;\n",
       "    }\n",
       "\n",
       "    .dataframe thead th {\n",
       "        text-align: right;\n",
       "    }\n",
       "</style>\n",
       "<table border=\"1\" class=\"dataframe\">\n",
       "  <thead>\n",
       "    <tr style=\"text-align: right;\">\n",
       "      <th></th>\n",
       "      <th>cust_id</th>\n",
       "      <th>acct_nbr</th>\n",
       "      <th>minimum_balance</th>\n",
       "      <th>acct_type</th>\n",
       "      <th>account_active</th>\n",
       "      <th>starting_balance</th>\n",
       "      <th>ending_balance</th>\n",
       "      <th>age_bin</th>\n",
       "      <th>age_bin_(13, 20]</th>\n",
       "      <th>age_bin_(20, 40]</th>\n",
       "      <th>...</th>\n",
       "      <th>age_bin_(60, 90]</th>\n",
       "      <th>tran_id</th>\n",
       "      <th>tran_amt</th>\n",
       "      <th>principal_amt</th>\n",
       "      <th>interest_amt</th>\n",
       "      <th>new_balance</th>\n",
       "      <th>tran_date</th>\n",
       "      <th>tran_time</th>\n",
       "      <th>channel</th>\n",
       "      <th>tran_code</th>\n",
       "    </tr>\n",
       "  </thead>\n",
       "  <tbody>\n",
       "    <tr>\n",
       "      <th>0</th>\n",
       "      <td>1363160</td>\n",
       "      <td>13631603</td>\n",
       "      <td>100</td>\n",
       "      <td>BS</td>\n",
       "      <td>1</td>\n",
       "      <td>113.04</td>\n",
       "      <td>122.54</td>\n",
       "      <td>(20, 40]</td>\n",
       "      <td>0</td>\n",
       "      <td>1</td>\n",
       "      <td>...</td>\n",
       "      <td>0</td>\n",
       "      <td>6</td>\n",
       "      <td>0.00</td>\n",
       "      <td>0.00</td>\n",
       "      <td>0.0</td>\n",
       "      <td>118.91</td>\n",
       "      <td>26.2.1995</td>\n",
       "      <td>190457.0</td>\n",
       "      <td>A</td>\n",
       "      <td>IQ</td>\n",
       "    </tr>\n",
       "    <tr>\n",
       "      <th>1</th>\n",
       "      <td>1363160</td>\n",
       "      <td>13631603</td>\n",
       "      <td>100</td>\n",
       "      <td>BS</td>\n",
       "      <td>1</td>\n",
       "      <td>113.04</td>\n",
       "      <td>122.54</td>\n",
       "      <td>(20, 40]</td>\n",
       "      <td>0</td>\n",
       "      <td>1</td>\n",
       "      <td>...</td>\n",
       "      <td>0</td>\n",
       "      <td>12</td>\n",
       "      <td>-248.66</td>\n",
       "      <td>-248.66</td>\n",
       "      <td>0.0</td>\n",
       "      <td>248.66</td>\n",
       "      <td>19.5.1995</td>\n",
       "      <td>143931.0</td>\n",
       "      <td>C</td>\n",
       "      <td>TR</td>\n",
       "    </tr>\n",
       "    <tr>\n",
       "      <th>2</th>\n",
       "      <td>1363160</td>\n",
       "      <td>13631603</td>\n",
       "      <td>100</td>\n",
       "      <td>BS</td>\n",
       "      <td>1</td>\n",
       "      <td>113.04</td>\n",
       "      <td>122.54</td>\n",
       "      <td>(20, 40]</td>\n",
       "      <td>0</td>\n",
       "      <td>1</td>\n",
       "      <td>...</td>\n",
       "      <td>0</td>\n",
       "      <td>18</td>\n",
       "      <td>151.47</td>\n",
       "      <td>151.47</td>\n",
       "      <td>0.0</td>\n",
       "      <td>318.91</td>\n",
       "      <td>24.6.1995</td>\n",
       "      <td>92404.0</td>\n",
       "      <td>A</td>\n",
       "      <td>DP</td>\n",
       "    </tr>\n",
       "    <tr>\n",
       "      <th>5</th>\n",
       "      <td>1363160</td>\n",
       "      <td>13631603</td>\n",
       "      <td>100</td>\n",
       "      <td>BS</td>\n",
       "      <td>1</td>\n",
       "      <td>113.04</td>\n",
       "      <td>122.54</td>\n",
       "      <td>(20, 40]</td>\n",
       "      <td>0</td>\n",
       "      <td>1</td>\n",
       "      <td>...</td>\n",
       "      <td>0</td>\n",
       "      <td>36</td>\n",
       "      <td>0.00</td>\n",
       "      <td>0.00</td>\n",
       "      <td>0.0</td>\n",
       "      <td>142.57</td>\n",
       "      <td>24.9.1995</td>\n",
       "      <td>231413.0</td>\n",
       "      <td>A</td>\n",
       "      <td>IQ</td>\n",
       "    </tr>\n",
       "    <tr>\n",
       "      <th>8</th>\n",
       "      <td>1363160</td>\n",
       "      <td>13631603</td>\n",
       "      <td>100</td>\n",
       "      <td>BS</td>\n",
       "      <td>1</td>\n",
       "      <td>113.04</td>\n",
       "      <td>122.54</td>\n",
       "      <td>(20, 40]</td>\n",
       "      <td>0</td>\n",
       "      <td>1</td>\n",
       "      <td>...</td>\n",
       "      <td>0</td>\n",
       "      <td>1</td>\n",
       "      <td>46.53</td>\n",
       "      <td>46.53</td>\n",
       "      <td>0.0</td>\n",
       "      <td>159.57</td>\n",
       "      <td>13.1.1995</td>\n",
       "      <td>142531.0</td>\n",
       "      <td>B</td>\n",
       "      <td>DP</td>\n",
       "    </tr>\n",
       "    <tr>\n",
       "      <th>...</th>\n",
       "      <td>...</td>\n",
       "      <td>...</td>\n",
       "      <td>...</td>\n",
       "      <td>...</td>\n",
       "      <td>...</td>\n",
       "      <td>...</td>\n",
       "      <td>...</td>\n",
       "      <td>...</td>\n",
       "      <td>...</td>\n",
       "      <td>...</td>\n",
       "      <td>...</td>\n",
       "      <td>...</td>\n",
       "      <td>...</td>\n",
       "      <td>...</td>\n",
       "      <td>...</td>\n",
       "      <td>...</td>\n",
       "      <td>...</td>\n",
       "      <td>...</td>\n",
       "      <td>...</td>\n",
       "      <td>...</td>\n",
       "      <td>...</td>\n",
       "    </tr>\n",
       "    <tr>\n",
       "      <th>11184</th>\n",
       "      <td>1362855</td>\n",
       "      <td>13628553</td>\n",
       "      <td>100</td>\n",
       "      <td>BS</td>\n",
       "      <td>1</td>\n",
       "      <td>167.71</td>\n",
       "      <td>161.04</td>\n",
       "      <td>(20, 40]</td>\n",
       "      <td>0</td>\n",
       "      <td>1</td>\n",
       "      <td>...</td>\n",
       "      <td>0</td>\n",
       "      <td>19</td>\n",
       "      <td>0.00</td>\n",
       "      <td>0.00</td>\n",
       "      <td>0.0</td>\n",
       "      <td>233.10</td>\n",
       "      <td>18.9.1995</td>\n",
       "      <td>191442.0</td>\n",
       "      <td>B</td>\n",
       "      <td>IQ</td>\n",
       "    </tr>\n",
       "    <tr>\n",
       "      <th>11185</th>\n",
       "      <td>1362855</td>\n",
       "      <td>13628553</td>\n",
       "      <td>100</td>\n",
       "      <td>BS</td>\n",
       "      <td>1</td>\n",
       "      <td>167.71</td>\n",
       "      <td>161.04</td>\n",
       "      <td>(20, 40]</td>\n",
       "      <td>0</td>\n",
       "      <td>1</td>\n",
       "      <td>...</td>\n",
       "      <td>0</td>\n",
       "      <td>28</td>\n",
       "      <td>138.44</td>\n",
       "      <td>138.44</td>\n",
       "      <td>0.0</td>\n",
       "      <td>197.75</td>\n",
       "      <td>14.12.1995</td>\n",
       "      <td>205121.0</td>\n",
       "      <td>A</td>\n",
       "      <td>DP</td>\n",
       "    </tr>\n",
       "    <tr>\n",
       "      <th>11186</th>\n",
       "      <td>1362855</td>\n",
       "      <td>13628553</td>\n",
       "      <td>100</td>\n",
       "      <td>BS</td>\n",
       "      <td>1</td>\n",
       "      <td>167.71</td>\n",
       "      <td>161.04</td>\n",
       "      <td>(20, 40]</td>\n",
       "      <td>0</td>\n",
       "      <td>1</td>\n",
       "      <td>...</td>\n",
       "      <td>0</td>\n",
       "      <td>18</td>\n",
       "      <td>119.07</td>\n",
       "      <td>119.07</td>\n",
       "      <td>0.0</td>\n",
       "      <td>233.10</td>\n",
       "      <td>18.9.1995</td>\n",
       "      <td>191315.0</td>\n",
       "      <td>B</td>\n",
       "      <td>DP</td>\n",
       "    </tr>\n",
       "    <tr>\n",
       "      <th>11187</th>\n",
       "      <td>1362855</td>\n",
       "      <td>13628553</td>\n",
       "      <td>100</td>\n",
       "      <td>BS</td>\n",
       "      <td>1</td>\n",
       "      <td>167.71</td>\n",
       "      <td>161.04</td>\n",
       "      <td>(20, 40]</td>\n",
       "      <td>0</td>\n",
       "      <td>1</td>\n",
       "      <td>...</td>\n",
       "      <td>0</td>\n",
       "      <td>27</td>\n",
       "      <td>-40.00</td>\n",
       "      <td>-40.00</td>\n",
       "      <td>0.0</td>\n",
       "      <td>59.31</td>\n",
       "      <td>14.12.1995</td>\n",
       "      <td>205014.0</td>\n",
       "      <td>A</td>\n",
       "      <td>WD</td>\n",
       "    </tr>\n",
       "    <tr>\n",
       "      <th>11188</th>\n",
       "      <td>1362855</td>\n",
       "      <td>13628553</td>\n",
       "      <td>100</td>\n",
       "      <td>BS</td>\n",
       "      <td>1</td>\n",
       "      <td>167.71</td>\n",
       "      <td>161.04</td>\n",
       "      <td>(20, 40]</td>\n",
       "      <td>0</td>\n",
       "      <td>1</td>\n",
       "      <td>...</td>\n",
       "      <td>0</td>\n",
       "      <td>9</td>\n",
       "      <td>25.83</td>\n",
       "      <td>25.83</td>\n",
       "      <td>0.0</td>\n",
       "      <td>31.34</td>\n",
       "      <td>20.7.1995</td>\n",
       "      <td>181742.0</td>\n",
       "      <td>A</td>\n",
       "      <td>DP</td>\n",
       "    </tr>\n",
       "  </tbody>\n",
       "</table>\n",
       "<p>5729 rows × 21 columns</p>\n",
       "</div>"
      ],
      "text/plain": [
       "       cust_id  acct_nbr  minimum_balance acct_type  account_active  \\\n",
       "0      1363160  13631603              100        BS               1   \n",
       "1      1363160  13631603              100        BS               1   \n",
       "2      1363160  13631603              100        BS               1   \n",
       "5      1363160  13631603              100        BS               1   \n",
       "8      1363160  13631603              100        BS               1   \n",
       "...        ...       ...              ...       ...             ...   \n",
       "11184  1362855  13628553              100        BS               1   \n",
       "11185  1362855  13628553              100        BS               1   \n",
       "11186  1362855  13628553              100        BS               1   \n",
       "11187  1362855  13628553              100        BS               1   \n",
       "11188  1362855  13628553              100        BS               1   \n",
       "\n",
       "       starting_balance  ending_balance   age_bin  age_bin_(13, 20]  \\\n",
       "0                113.04          122.54  (20, 40]                 0   \n",
       "1                113.04          122.54  (20, 40]                 0   \n",
       "2                113.04          122.54  (20, 40]                 0   \n",
       "5                113.04          122.54  (20, 40]                 0   \n",
       "8                113.04          122.54  (20, 40]                 0   \n",
       "...                 ...             ...       ...               ...   \n",
       "11184            167.71          161.04  (20, 40]                 0   \n",
       "11185            167.71          161.04  (20, 40]                 0   \n",
       "11186            167.71          161.04  (20, 40]                 0   \n",
       "11187            167.71          161.04  (20, 40]                 0   \n",
       "11188            167.71          161.04  (20, 40]                 0   \n",
       "\n",
       "       age_bin_(20, 40]  ...  age_bin_(60, 90]  tran_id  tran_amt  \\\n",
       "0                     1  ...                 0        6      0.00   \n",
       "1                     1  ...                 0       12   -248.66   \n",
       "2                     1  ...                 0       18    151.47   \n",
       "5                     1  ...                 0       36      0.00   \n",
       "8                     1  ...                 0        1     46.53   \n",
       "...                 ...  ...               ...      ...       ...   \n",
       "11184                 1  ...                 0       19      0.00   \n",
       "11185                 1  ...                 0       28    138.44   \n",
       "11186                 1  ...                 0       18    119.07   \n",
       "11187                 1  ...                 0       27    -40.00   \n",
       "11188                 1  ...                 0        9     25.83   \n",
       "\n",
       "       principal_amt  interest_amt  new_balance   tran_date tran_time  \\\n",
       "0               0.00           0.0       118.91   26.2.1995  190457.0   \n",
       "1            -248.66           0.0       248.66   19.5.1995  143931.0   \n",
       "2             151.47           0.0       318.91   24.6.1995   92404.0   \n",
       "5               0.00           0.0       142.57   24.9.1995  231413.0   \n",
       "8              46.53           0.0       159.57   13.1.1995  142531.0   \n",
       "...              ...           ...          ...         ...       ...   \n",
       "11184           0.00           0.0       233.10   18.9.1995  191442.0   \n",
       "11185         138.44           0.0       197.75  14.12.1995  205121.0   \n",
       "11186         119.07           0.0       233.10   18.9.1995  191315.0   \n",
       "11187         -40.00           0.0        59.31  14.12.1995  205014.0   \n",
       "11188          25.83           0.0        31.34   20.7.1995  181742.0   \n",
       "\n",
       "       channel tran_code  \n",
       "0            A        IQ  \n",
       "1            C        TR  \n",
       "2            A        DP  \n",
       "5            A        IQ  \n",
       "8            B        DP  \n",
       "...        ...       ...  \n",
       "11184        B        IQ  \n",
       "11185        A        DP  \n",
       "11186        B        DP  \n",
       "11187        A        WD  \n",
       "11188        A        DP  \n",
       "\n",
       "[5729 rows x 21 columns]"
      ]
     },
     "execution_count": 13,
     "metadata": {},
     "output_type": "execute_result"
    }
   ],
   "source": [
    "customer_data = pd.merge(customer_saving, saving_transaction, how = 'inner')\n",
    "customer_data.dropna(inplace = True)\n",
    "customer_data"
   ]
  },
  {
   "cell_type": "code",
   "execution_count": 14,
   "id": "5995211a-ea84-4619-aa5c-97f17e45527f",
   "metadata": {},
   "outputs": [],
   "source": [
    "cluster_data = customer_data[['acct_type','age_bin','minimum_balance', 'starting_balance', 'ending_balance','tran_amt','account_active','age_bin_(13, 20]', 'age_bin_(20, 40]', 'age_bin_(40, 60]','age_bin_(60, 90]' ]]"
   ]
  },
  {
   "cell_type": "code",
   "execution_count": 15,
   "id": "56d9d0d3-d22c-41e9-aae3-6c3df6e9fa2b",
   "metadata": {},
   "outputs": [
    {
     "data": {
      "text/html": [
       "<div>\n",
       "<style scoped>\n",
       "    .dataframe tbody tr th:only-of-type {\n",
       "        vertical-align: middle;\n",
       "    }\n",
       "\n",
       "    .dataframe tbody tr th {\n",
       "        vertical-align: top;\n",
       "    }\n",
       "\n",
       "    .dataframe thead th {\n",
       "        text-align: right;\n",
       "    }\n",
       "</style>\n",
       "<table border=\"1\" class=\"dataframe\">\n",
       "  <thead>\n",
       "    <tr style=\"text-align: right;\">\n",
       "      <th></th>\n",
       "      <th>acct_type</th>\n",
       "      <th>age_bin</th>\n",
       "      <th>minimum_balance</th>\n",
       "      <th>starting_balance</th>\n",
       "      <th>ending_balance</th>\n",
       "      <th>tran_amt</th>\n",
       "      <th>account_active</th>\n",
       "      <th>age_bin_(13, 20]</th>\n",
       "      <th>age_bin_(20, 40]</th>\n",
       "      <th>age_bin_(40, 60]</th>\n",
       "      <th>age_bin_(60, 90]</th>\n",
       "    </tr>\n",
       "  </thead>\n",
       "  <tbody>\n",
       "    <tr>\n",
       "      <th>0</th>\n",
       "      <td>BS</td>\n",
       "      <td>(20, 40]</td>\n",
       "      <td>100</td>\n",
       "      <td>113.04</td>\n",
       "      <td>122.54</td>\n",
       "      <td>0.00</td>\n",
       "      <td>1</td>\n",
       "      <td>0</td>\n",
       "      <td>1</td>\n",
       "      <td>0</td>\n",
       "      <td>0</td>\n",
       "    </tr>\n",
       "    <tr>\n",
       "      <th>1</th>\n",
       "      <td>BS</td>\n",
       "      <td>(20, 40]</td>\n",
       "      <td>100</td>\n",
       "      <td>113.04</td>\n",
       "      <td>122.54</td>\n",
       "      <td>-248.66</td>\n",
       "      <td>1</td>\n",
       "      <td>0</td>\n",
       "      <td>1</td>\n",
       "      <td>0</td>\n",
       "      <td>0</td>\n",
       "    </tr>\n",
       "    <tr>\n",
       "      <th>2</th>\n",
       "      <td>BS</td>\n",
       "      <td>(20, 40]</td>\n",
       "      <td>100</td>\n",
       "      <td>113.04</td>\n",
       "      <td>122.54</td>\n",
       "      <td>151.47</td>\n",
       "      <td>1</td>\n",
       "      <td>0</td>\n",
       "      <td>1</td>\n",
       "      <td>0</td>\n",
       "      <td>0</td>\n",
       "    </tr>\n",
       "    <tr>\n",
       "      <th>5</th>\n",
       "      <td>BS</td>\n",
       "      <td>(20, 40]</td>\n",
       "      <td>100</td>\n",
       "      <td>113.04</td>\n",
       "      <td>122.54</td>\n",
       "      <td>0.00</td>\n",
       "      <td>1</td>\n",
       "      <td>0</td>\n",
       "      <td>1</td>\n",
       "      <td>0</td>\n",
       "      <td>0</td>\n",
       "    </tr>\n",
       "    <tr>\n",
       "      <th>8</th>\n",
       "      <td>BS</td>\n",
       "      <td>(20, 40]</td>\n",
       "      <td>100</td>\n",
       "      <td>113.04</td>\n",
       "      <td>122.54</td>\n",
       "      <td>46.53</td>\n",
       "      <td>1</td>\n",
       "      <td>0</td>\n",
       "      <td>1</td>\n",
       "      <td>0</td>\n",
       "      <td>0</td>\n",
       "    </tr>\n",
       "    <tr>\n",
       "      <th>...</th>\n",
       "      <td>...</td>\n",
       "      <td>...</td>\n",
       "      <td>...</td>\n",
       "      <td>...</td>\n",
       "      <td>...</td>\n",
       "      <td>...</td>\n",
       "      <td>...</td>\n",
       "      <td>...</td>\n",
       "      <td>...</td>\n",
       "      <td>...</td>\n",
       "      <td>...</td>\n",
       "    </tr>\n",
       "    <tr>\n",
       "      <th>11184</th>\n",
       "      <td>BS</td>\n",
       "      <td>(20, 40]</td>\n",
       "      <td>100</td>\n",
       "      <td>167.71</td>\n",
       "      <td>161.04</td>\n",
       "      <td>0.00</td>\n",
       "      <td>1</td>\n",
       "      <td>0</td>\n",
       "      <td>1</td>\n",
       "      <td>0</td>\n",
       "      <td>0</td>\n",
       "    </tr>\n",
       "    <tr>\n",
       "      <th>11185</th>\n",
       "      <td>BS</td>\n",
       "      <td>(20, 40]</td>\n",
       "      <td>100</td>\n",
       "      <td>167.71</td>\n",
       "      <td>161.04</td>\n",
       "      <td>138.44</td>\n",
       "      <td>1</td>\n",
       "      <td>0</td>\n",
       "      <td>1</td>\n",
       "      <td>0</td>\n",
       "      <td>0</td>\n",
       "    </tr>\n",
       "    <tr>\n",
       "      <th>11186</th>\n",
       "      <td>BS</td>\n",
       "      <td>(20, 40]</td>\n",
       "      <td>100</td>\n",
       "      <td>167.71</td>\n",
       "      <td>161.04</td>\n",
       "      <td>119.07</td>\n",
       "      <td>1</td>\n",
       "      <td>0</td>\n",
       "      <td>1</td>\n",
       "      <td>0</td>\n",
       "      <td>0</td>\n",
       "    </tr>\n",
       "    <tr>\n",
       "      <th>11187</th>\n",
       "      <td>BS</td>\n",
       "      <td>(20, 40]</td>\n",
       "      <td>100</td>\n",
       "      <td>167.71</td>\n",
       "      <td>161.04</td>\n",
       "      <td>-40.00</td>\n",
       "      <td>1</td>\n",
       "      <td>0</td>\n",
       "      <td>1</td>\n",
       "      <td>0</td>\n",
       "      <td>0</td>\n",
       "    </tr>\n",
       "    <tr>\n",
       "      <th>11188</th>\n",
       "      <td>BS</td>\n",
       "      <td>(20, 40]</td>\n",
       "      <td>100</td>\n",
       "      <td>167.71</td>\n",
       "      <td>161.04</td>\n",
       "      <td>25.83</td>\n",
       "      <td>1</td>\n",
       "      <td>0</td>\n",
       "      <td>1</td>\n",
       "      <td>0</td>\n",
       "      <td>0</td>\n",
       "    </tr>\n",
       "  </tbody>\n",
       "</table>\n",
       "<p>5729 rows × 11 columns</p>\n",
       "</div>"
      ],
      "text/plain": [
       "      acct_type   age_bin  minimum_balance  starting_balance  ending_balance  \\\n",
       "0            BS  (20, 40]              100            113.04          122.54   \n",
       "1            BS  (20, 40]              100            113.04          122.54   \n",
       "2            BS  (20, 40]              100            113.04          122.54   \n",
       "5            BS  (20, 40]              100            113.04          122.54   \n",
       "8            BS  (20, 40]              100            113.04          122.54   \n",
       "...         ...       ...              ...               ...             ...   \n",
       "11184        BS  (20, 40]              100            167.71          161.04   \n",
       "11185        BS  (20, 40]              100            167.71          161.04   \n",
       "11186        BS  (20, 40]              100            167.71          161.04   \n",
       "11187        BS  (20, 40]              100            167.71          161.04   \n",
       "11188        BS  (20, 40]              100            167.71          161.04   \n",
       "\n",
       "       tran_amt  account_active  age_bin_(13, 20]  age_bin_(20, 40]  \\\n",
       "0          0.00               1                 0                 1   \n",
       "1       -248.66               1                 0                 1   \n",
       "2        151.47               1                 0                 1   \n",
       "5          0.00               1                 0                 1   \n",
       "8         46.53               1                 0                 1   \n",
       "...         ...             ...               ...               ...   \n",
       "11184      0.00               1                 0                 1   \n",
       "11185    138.44               1                 0                 1   \n",
       "11186    119.07               1                 0                 1   \n",
       "11187    -40.00               1                 0                 1   \n",
       "11188     25.83               1                 0                 1   \n",
       "\n",
       "       age_bin_(40, 60]  age_bin_(60, 90]  \n",
       "0                     0                 0  \n",
       "1                     0                 0  \n",
       "2                     0                 0  \n",
       "5                     0                 0  \n",
       "8                     0                 0  \n",
       "...                 ...               ...  \n",
       "11184                 0                 0  \n",
       "11185                 0                 0  \n",
       "11186                 0                 0  \n",
       "11187                 0                 0  \n",
       "11188                 0                 0  \n",
       "\n",
       "[5729 rows x 11 columns]"
      ]
     },
     "execution_count": 15,
     "metadata": {},
     "output_type": "execute_result"
    }
   ],
   "source": [
    "cluster_data"
   ]
  },
  {
   "cell_type": "code",
   "execution_count": 16,
   "id": "b5d7943f-19ad-4cc1-abf8-9dd54e493545",
   "metadata": {},
   "outputs": [
    {
     "name": "stderr",
     "output_type": "stream",
     "text": [
      "C:\\Users\\quang\\AppData\\Local\\Temp\\ipykernel_11080\\1282470694.py:2: SettingWithCopyWarning: \n",
      "A value is trying to be set on a copy of a slice from a DataFrame\n",
      "\n",
      "See the caveats in the documentation: https://pandas.pydata.org/pandas-docs/stable/user_guide/indexing.html#returning-a-view-versus-a-copy\n",
      "  cluster_data.dropna(inplace = True)\n",
      "C:\\Users\\quang\\AppData\\Local\\Temp\\ipykernel_11080\\1282470694.py:6: SettingWithCopyWarning: \n",
      "A value is trying to be set on a copy of a slice from a DataFrame.\n",
      "Try using .loc[row_indexer,col_indexer] = value instead\n",
      "\n",
      "See the caveats in the documentation: https://pandas.pydata.org/pandas-docs/stable/user_guide/indexing.html#returning-a-view-versus-a-copy\n",
      "  cluster_data[cols_scaled] = scaler.fit_transform(cluster_data[cols])\n",
      "C:\\Users\\quang\\AppData\\Local\\Temp\\ipykernel_11080\\1282470694.py:6: SettingWithCopyWarning: \n",
      "A value is trying to be set on a copy of a slice from a DataFrame.\n",
      "Try using .loc[row_indexer,col_indexer] = value instead\n",
      "\n",
      "See the caveats in the documentation: https://pandas.pydata.org/pandas-docs/stable/user_guide/indexing.html#returning-a-view-versus-a-copy\n",
      "  cluster_data[cols_scaled] = scaler.fit_transform(cluster_data[cols])\n",
      "C:\\Users\\quang\\AppData\\Local\\Temp\\ipykernel_11080\\1282470694.py:6: SettingWithCopyWarning: \n",
      "A value is trying to be set on a copy of a slice from a DataFrame.\n",
      "Try using .loc[row_indexer,col_indexer] = value instead\n",
      "\n",
      "See the caveats in the documentation: https://pandas.pydata.org/pandas-docs/stable/user_guide/indexing.html#returning-a-view-versus-a-copy\n",
      "  cluster_data[cols_scaled] = scaler.fit_transform(cluster_data[cols])\n",
      "C:\\Users\\quang\\AppData\\Local\\Temp\\ipykernel_11080\\1282470694.py:6: SettingWithCopyWarning: \n",
      "A value is trying to be set on a copy of a slice from a DataFrame.\n",
      "Try using .loc[row_indexer,col_indexer] = value instead\n",
      "\n",
      "See the caveats in the documentation: https://pandas.pydata.org/pandas-docs/stable/user_guide/indexing.html#returning-a-view-versus-a-copy\n",
      "  cluster_data[cols_scaled] = scaler.fit_transform(cluster_data[cols])\n",
      "C:\\Users\\quang\\AppData\\Local\\Temp\\ipykernel_11080\\1282470694.py:6: SettingWithCopyWarning: \n",
      "A value is trying to be set on a copy of a slice from a DataFrame.\n",
      "Try using .loc[row_indexer,col_indexer] = value instead\n",
      "\n",
      "See the caveats in the documentation: https://pandas.pydata.org/pandas-docs/stable/user_guide/indexing.html#returning-a-view-versus-a-copy\n",
      "  cluster_data[cols_scaled] = scaler.fit_transform(cluster_data[cols])\n",
      "C:\\Users\\quang\\AppData\\Local\\Temp\\ipykernel_11080\\1282470694.py:6: SettingWithCopyWarning: \n",
      "A value is trying to be set on a copy of a slice from a DataFrame.\n",
      "Try using .loc[row_indexer,col_indexer] = value instead\n",
      "\n",
      "See the caveats in the documentation: https://pandas.pydata.org/pandas-docs/stable/user_guide/indexing.html#returning-a-view-versus-a-copy\n",
      "  cluster_data[cols_scaled] = scaler.fit_transform(cluster_data[cols])\n",
      "C:\\Users\\quang\\AppData\\Local\\Temp\\ipykernel_11080\\1282470694.py:6: SettingWithCopyWarning: \n",
      "A value is trying to be set on a copy of a slice from a DataFrame.\n",
      "Try using .loc[row_indexer,col_indexer] = value instead\n",
      "\n",
      "See the caveats in the documentation: https://pandas.pydata.org/pandas-docs/stable/user_guide/indexing.html#returning-a-view-versus-a-copy\n",
      "  cluster_data[cols_scaled] = scaler.fit_transform(cluster_data[cols])\n",
      "C:\\Users\\quang\\AppData\\Local\\Temp\\ipykernel_11080\\1282470694.py:6: SettingWithCopyWarning: \n",
      "A value is trying to be set on a copy of a slice from a DataFrame.\n",
      "Try using .loc[row_indexer,col_indexer] = value instead\n",
      "\n",
      "See the caveats in the documentation: https://pandas.pydata.org/pandas-docs/stable/user_guide/indexing.html#returning-a-view-versus-a-copy\n",
      "  cluster_data[cols_scaled] = scaler.fit_transform(cluster_data[cols])\n"
     ]
    },
    {
     "data": {
      "text/html": [
       "<div>\n",
       "<style scoped>\n",
       "    .dataframe tbody tr th:only-of-type {\n",
       "        vertical-align: middle;\n",
       "    }\n",
       "\n",
       "    .dataframe tbody tr th {\n",
       "        vertical-align: top;\n",
       "    }\n",
       "\n",
       "    .dataframe thead th {\n",
       "        text-align: right;\n",
       "    }\n",
       "</style>\n",
       "<table border=\"1\" class=\"dataframe\">\n",
       "  <thead>\n",
       "    <tr style=\"text-align: right;\">\n",
       "      <th></th>\n",
       "      <th>acct_type</th>\n",
       "      <th>age_bin</th>\n",
       "      <th>minimum_balance</th>\n",
       "      <th>starting_balance</th>\n",
       "      <th>ending_balance</th>\n",
       "      <th>tran_amt</th>\n",
       "      <th>account_active</th>\n",
       "      <th>age_bin_(13, 20]</th>\n",
       "      <th>age_bin_(20, 40]</th>\n",
       "      <th>age_bin_(40, 60]</th>\n",
       "      <th>age_bin_(60, 90]</th>\n",
       "      <th>minimum_balance_scaled</th>\n",
       "      <th>starting_balance_scaled</th>\n",
       "      <th>ending_balance_scaled</th>\n",
       "      <th>account_active_scaled</th>\n",
       "      <th>age_bin_(13, 20]_scaled</th>\n",
       "      <th>age_bin_(20, 40]_scaled</th>\n",
       "      <th>age_bin_(40, 60]_scaled</th>\n",
       "      <th>age_bin_(60, 90]_scaled</th>\n",
       "    </tr>\n",
       "  </thead>\n",
       "  <tbody>\n",
       "    <tr>\n",
       "      <th>0</th>\n",
       "      <td>BS</td>\n",
       "      <td>(20, 40]</td>\n",
       "      <td>100</td>\n",
       "      <td>113.04</td>\n",
       "      <td>122.54</td>\n",
       "      <td>-0.031251</td>\n",
       "      <td>1</td>\n",
       "      <td>0</td>\n",
       "      <td>1</td>\n",
       "      <td>0</td>\n",
       "      <td>0</td>\n",
       "      <td>-0.591528</td>\n",
       "      <td>-0.459092</td>\n",
       "      <td>-0.550376</td>\n",
       "      <td>0.345834</td>\n",
       "      <td>-0.509583</td>\n",
       "      <td>1.72823</td>\n",
       "      <td>-0.7097</td>\n",
       "      <td>-0.512571</td>\n",
       "    </tr>\n",
       "    <tr>\n",
       "      <th>1</th>\n",
       "      <td>BS</td>\n",
       "      <td>(20, 40]</td>\n",
       "      <td>100</td>\n",
       "      <td>113.04</td>\n",
       "      <td>122.54</td>\n",
       "      <td>-0.994107</td>\n",
       "      <td>1</td>\n",
       "      <td>0</td>\n",
       "      <td>1</td>\n",
       "      <td>0</td>\n",
       "      <td>0</td>\n",
       "      <td>-0.591528</td>\n",
       "      <td>-0.459092</td>\n",
       "      <td>-0.550376</td>\n",
       "      <td>0.345834</td>\n",
       "      <td>-0.509583</td>\n",
       "      <td>1.72823</td>\n",
       "      <td>-0.7097</td>\n",
       "      <td>-0.512571</td>\n",
       "    </tr>\n",
       "    <tr>\n",
       "      <th>2</th>\n",
       "      <td>BS</td>\n",
       "      <td>(20, 40]</td>\n",
       "      <td>100</td>\n",
       "      <td>113.04</td>\n",
       "      <td>122.54</td>\n",
       "      <td>0.555268</td>\n",
       "      <td>1</td>\n",
       "      <td>0</td>\n",
       "      <td>1</td>\n",
       "      <td>0</td>\n",
       "      <td>0</td>\n",
       "      <td>-0.591528</td>\n",
       "      <td>-0.459092</td>\n",
       "      <td>-0.550376</td>\n",
       "      <td>0.345834</td>\n",
       "      <td>-0.509583</td>\n",
       "      <td>1.72823</td>\n",
       "      <td>-0.7097</td>\n",
       "      <td>-0.512571</td>\n",
       "    </tr>\n",
       "    <tr>\n",
       "      <th>5</th>\n",
       "      <td>BS</td>\n",
       "      <td>(20, 40]</td>\n",
       "      <td>100</td>\n",
       "      <td>113.04</td>\n",
       "      <td>122.54</td>\n",
       "      <td>-0.031251</td>\n",
       "      <td>1</td>\n",
       "      <td>0</td>\n",
       "      <td>1</td>\n",
       "      <td>0</td>\n",
       "      <td>0</td>\n",
       "      <td>-0.591528</td>\n",
       "      <td>-0.459092</td>\n",
       "      <td>-0.550376</td>\n",
       "      <td>0.345834</td>\n",
       "      <td>-0.509583</td>\n",
       "      <td>1.72823</td>\n",
       "      <td>-0.7097</td>\n",
       "      <td>-0.512571</td>\n",
       "    </tr>\n",
       "    <tr>\n",
       "      <th>8</th>\n",
       "      <td>BS</td>\n",
       "      <td>(20, 40]</td>\n",
       "      <td>100</td>\n",
       "      <td>113.04</td>\n",
       "      <td>122.54</td>\n",
       "      <td>0.148922</td>\n",
       "      <td>1</td>\n",
       "      <td>0</td>\n",
       "      <td>1</td>\n",
       "      <td>0</td>\n",
       "      <td>0</td>\n",
       "      <td>-0.591528</td>\n",
       "      <td>-0.459092</td>\n",
       "      <td>-0.550376</td>\n",
       "      <td>0.345834</td>\n",
       "      <td>-0.509583</td>\n",
       "      <td>1.72823</td>\n",
       "      <td>-0.7097</td>\n",
       "      <td>-0.512571</td>\n",
       "    </tr>\n",
       "  </tbody>\n",
       "</table>\n",
       "</div>"
      ],
      "text/plain": [
       "  acct_type   age_bin  minimum_balance  starting_balance  ending_balance  \\\n",
       "0        BS  (20, 40]              100            113.04          122.54   \n",
       "1        BS  (20, 40]              100            113.04          122.54   \n",
       "2        BS  (20, 40]              100            113.04          122.54   \n",
       "5        BS  (20, 40]              100            113.04          122.54   \n",
       "8        BS  (20, 40]              100            113.04          122.54   \n",
       "\n",
       "   tran_amt  account_active  age_bin_(13, 20]  age_bin_(20, 40]  \\\n",
       "0 -0.031251               1                 0                 1   \n",
       "1 -0.994107               1                 0                 1   \n",
       "2  0.555268               1                 0                 1   \n",
       "5 -0.031251               1                 0                 1   \n",
       "8  0.148922               1                 0                 1   \n",
       "\n",
       "   age_bin_(40, 60]  age_bin_(60, 90]  minimum_balance_scaled  \\\n",
       "0                 0                 0               -0.591528   \n",
       "1                 0                 0               -0.591528   \n",
       "2                 0                 0               -0.591528   \n",
       "5                 0                 0               -0.591528   \n",
       "8                 0                 0               -0.591528   \n",
       "\n",
       "   starting_balance_scaled  ending_balance_scaled  account_active_scaled  \\\n",
       "0                -0.459092              -0.550376               0.345834   \n",
       "1                -0.459092              -0.550376               0.345834   \n",
       "2                -0.459092              -0.550376               0.345834   \n",
       "5                -0.459092              -0.550376               0.345834   \n",
       "8                -0.459092              -0.550376               0.345834   \n",
       "\n",
       "   age_bin_(13, 20]_scaled  age_bin_(20, 40]_scaled  age_bin_(40, 60]_scaled  \\\n",
       "0                -0.509583                  1.72823                  -0.7097   \n",
       "1                -0.509583                  1.72823                  -0.7097   \n",
       "2                -0.509583                  1.72823                  -0.7097   \n",
       "5                -0.509583                  1.72823                  -0.7097   \n",
       "8                -0.509583                  1.72823                  -0.7097   \n",
       "\n",
       "   age_bin_(60, 90]_scaled  \n",
       "0                -0.512571  \n",
       "1                -0.512571  \n",
       "2                -0.512571  \n",
       "5                -0.512571  \n",
       "8                -0.512571  "
      ]
     },
     "execution_count": 16,
     "metadata": {},
     "output_type": "execute_result"
    }
   ],
   "source": [
    "# scale data\n",
    "cluster_data.dropna(inplace = True)\n",
    "cols = ['minimum_balance', 'starting_balance', 'ending_balance', 'tran_amt', 'account_active', 'age_bin_(13, 20]', 'age_bin_(20, 40]', 'age_bin_(40, 60]', 'age_bin_(60, 90]']\n",
    "cols_scaled = ['minimum_balance_scaled', 'starting_balance_scaled', 'ending_balance_scaled','tran_amt', 'account_active_scaled', 'age_bin_(13, 20]_scaled', 'age_bin_(20, 40]_scaled', 'age_bin_(40, 60]_scaled', 'age_bin_(60, 90]_scaled']\n",
    "scaler = StandardScaler()\n",
    "cluster_data[cols_scaled] = scaler.fit_transform(cluster_data[cols])\n",
    "cluster_data.head()"
   ]
  },
  {
   "cell_type": "code",
   "execution_count": 17,
   "id": "24a748f2-72b5-41be-8127-ee089ac8c19d",
   "metadata": {},
   "outputs": [
    {
     "data": {
      "image/png": "[encoded data removed]",
      "text/plain": [
       "<Figure size 2500x3000 with 1 Axes>"
      ]
     },
     "metadata": {},
     "output_type": "display_data"
    }
   ],
   "source": [
    "linkage_type = 'ward'\n",
    "cluster_new = cluster_data.iloc[:, 11:]\n",
    "linkage_matrix = linkage(cluster_new, linkage_type)\n",
    "\n",
    "plt.figure(figsize=(25,30))\n",
    "labels = list(cluster_data['acct_type'])\n",
    "\n",
    "# plot using 'dendrogram()'\n",
    "dendrogram(linkage_matrix, labels=labels,\n",
    "    leaf_rotation=90.,  # rotates the x axis labels\n",
    "    leaf_font_size=8.)\n",
    "\n",
    "plt.show()"
   ]
  },
  {
   "cell_type": "code",
   "execution_count": 33,
   "id": "edbe8b36-ad0a-49ef-a816-7d7093cb80a7",
   "metadata": {},
   "outputs": [
    {
     "data": {
      "text/html": [
       "<style>#sk-container-id-2 {color: black;background-color: white;}#sk-container-id-2 pre{padding: 0;}#sk-container-id-2 div.sk-toggleable {background-color: white;}#sk-container-id-2 label.sk-toggleable__label {cursor: pointer;display: block;width: 100%;margin-bottom: 0;padding: 0.3em;box-sizing: border-box;text-align: center;}#sk-container-id-2 label.sk-toggleable__label-arrow:before {content: \"▸\";float: left;margin-right: 0.25em;color: #696969;}#sk-container-id-2 label.sk-toggleable__label-arrow:hover:before {color: black;}#sk-container-id-2 div.sk-estimator:hover label.sk-toggleable__label-arrow:before {color: black;}#sk-container-id-2 div.sk-toggleable__content {max-height: 0;max-width: 0;overflow: hidden;text-align: left;background-color: #f0f8ff;}#sk-container-id-2 div.sk-toggleable__content pre {margin: 0.2em;color: black;border-radius: 0.25em;background-color: #f0f8ff;}#sk-container-id-2 input.sk-toggleable__control:checked~div.sk-toggleable__content {max-height: 200px;max-width: 100%;overflow: auto;}#sk-container-id-2 input.sk-toggleable__control:checked~label.sk-toggleable__label-arrow:before {content: \"▾\";}#sk-container-id-2 div.sk-estimator input.sk-toggleable__control:checked~label.sk-toggleable__label {background-color: #d4ebff;}#sk-container-id-2 div.sk-label input.sk-toggleable__control:checked~label.sk-toggleable__label {background-color: #d4ebff;}#sk-container-id-2 input.sk-hidden--visually {border: 0;clip: rect(1px 1px 1px 1px);clip: rect(1px, 1px, 1px, 1px);height: 1px;margin: -1px;overflow: hidden;padding: 0;position: absolute;width: 1px;}#sk-container-id-2 div.sk-estimator {font-family: monospace;background-color: #f0f8ff;border: 1px dotted black;border-radius: 0.25em;box-sizing: border-box;margin-bottom: 0.5em;}#sk-container-id-2 div.sk-estimator:hover {background-color: #d4ebff;}#sk-container-id-2 div.sk-parallel-item::after {content: \"\";width: 100%;border-bottom: 1px solid gray;flex-grow: 1;}#sk-container-id-2 div.sk-label:hover label.sk-toggleable__label {background-color: #d4ebff;}#sk-container-id-2 div.sk-serial::before {content: \"\";position: absolute;border-left: 1px solid gray;box-sizing: border-box;top: 0;bottom: 0;left: 50%;z-index: 0;}#sk-container-id-2 div.sk-serial {display: flex;flex-direction: column;align-items: center;background-color: white;padding-right: 0.2em;padding-left: 0.2em;position: relative;}#sk-container-id-2 div.sk-item {position: relative;z-index: 1;}#sk-container-id-2 div.sk-parallel {display: flex;align-items: stretch;justify-content: center;background-color: white;position: relative;}#sk-container-id-2 div.sk-item::before, #sk-container-id-2 div.sk-parallel-item::before {content: \"\";position: absolute;border-left: 1px solid gray;box-sizing: border-box;top: 0;bottom: 0;left: 50%;z-index: -1;}#sk-container-id-2 div.sk-parallel-item {display: flex;flex-direction: column;z-index: 1;position: relative;background-color: white;}#sk-container-id-2 div.sk-parallel-item:first-child::after {align-self: flex-end;width: 50%;}#sk-container-id-2 div.sk-parallel-item:last-child::after {align-self: flex-start;width: 50%;}#sk-container-id-2 div.sk-parallel-item:only-child::after {width: 0;}#sk-container-id-2 div.sk-dashed-wrapped {border: 1px dashed gray;margin: 0 0.4em 0.5em 0.4em;box-sizing: border-box;padding-bottom: 0.4em;background-color: white;}#sk-container-id-2 div.sk-label label {font-family: monospace;font-weight: bold;display: inline-block;line-height: 1.2em;}#sk-container-id-2 div.sk-label-container {text-align: center;}#sk-container-id-2 div.sk-container {/* jupyter's `normalize.less` sets `[hidden] { display: none; }` but bootstrap.min.css set `[hidden] { display: none !important; }` so we also need the `!important` here to be able to override the default hidden behavior on the sphinx rendered scikit-learn.org. See: https://github.com/scikit-learn/scikit-learn/issues/21755 */display: inline-block !important;position: relative;}#sk-container-id-2 div.sk-text-repr-fallback {display: none;}</style><div id=\"sk-container-id-2\" class=\"sk-top-container\"><div class=\"sk-text-repr-fallback\"><pre>AgglomerativeClustering(n_clusters=3)</pre><b>In a Jupyter environment, please rerun this cell to show the HTML representation or trust the notebook. <br />On GitHub, the HTML representation is unable to render, please try loading this page with nbviewer.org.</b></div><div class=\"sk-container\" hidden><div class=\"sk-item\"><div class=\"sk-estimator sk-toggleable\"><input class=\"sk-toggleable__control sk-hidden--visually\" id=\"sk-estimator-id-2\" type=\"checkbox\" checked><label for=\"sk-estimator-id-2\" class=\"sk-toggleable__label sk-toggleable__label-arrow\">AgglomerativeClustering</label><div class=\"sk-toggleable__content\"><pre>AgglomerativeClustering(n_clusters=3)</pre></div></div></div></div></div>"
      ],
      "text/plain": [
       "AgglomerativeClustering(n_clusters=3)"
      ]
     },
     "execution_count": 33,
     "metadata": {},
     "output_type": "execute_result"
    }
   ],
   "source": [
    "#Run Clustering\n",
    "model = AgglomerativeClustering(n_clusters = 3)\n",
    "model.fit(cluster_new)"
   ]
  },
  {
   "cell_type": "code",
   "execution_count": 34,
   "id": "cfb53597-d1ae-49ab-8c0f-b74ab3f7f6c7",
   "metadata": {},
   "outputs": [
    {
     "name": "stdout",
     "output_type": "stream",
     "text": [
      "[1 1 1 ... 1 1 1]\n"
     ]
    },
    {
     "name": "stderr",
     "output_type": "stream",
     "text": [
      "C:\\Users\\quang\\AppData\\Local\\Temp\\ipykernel_11080\\1014378637.py:9: SettingWithCopyWarning:\n",
      "\n",
      "\n",
      "A value is trying to be set on a copy of a slice from a DataFrame.\n",
      "Try using .loc[row_indexer,col_indexer] = value instead\n",
      "\n",
      "See the caveats in the documentation: https://pandas.pydata.org/pandas-docs/stable/user_guide/indexing.html#returning-a-view-versus-a-copy\n",
      "\n",
      "C:\\Users\\quang\\AppData\\Local\\Temp\\ipykernel_11080\\1014378637.py:10: SettingWithCopyWarning:\n",
      "\n",
      "\n",
      "A value is trying to be set on a copy of a slice from a DataFrame\n",
      "\n",
      "See the caveats in the documentation: https://pandas.pydata.org/pandas-docs/stable/user_guide/indexing.html#returning-a-view-versus-a-copy\n",
      "\n"
     ]
    },
    {
     "data": {
      "text/html": [
       "<div>\n",
       "<style scoped>\n",
       "    .dataframe tbody tr th:only-of-type {\n",
       "        vertical-align: middle;\n",
       "    }\n",
       "\n",
       "    .dataframe tbody tr th {\n",
       "        vertical-align: top;\n",
       "    }\n",
       "\n",
       "    .dataframe thead th {\n",
       "        text-align: right;\n",
       "    }\n",
       "</style>\n",
       "<table border=\"1\" class=\"dataframe\">\n",
       "  <thead>\n",
       "    <tr style=\"text-align: right;\">\n",
       "      <th></th>\n",
       "      <th>acct_type</th>\n",
       "      <th>age_bin</th>\n",
       "      <th>minimum_balance</th>\n",
       "      <th>starting_balance</th>\n",
       "      <th>ending_balance</th>\n",
       "      <th>tran_amt</th>\n",
       "      <th>account_active</th>\n",
       "      <th>age_bin_(13, 20]</th>\n",
       "      <th>age_bin_(20, 40]</th>\n",
       "      <th>age_bin_(40, 60]</th>\n",
       "      <th>age_bin_(60, 90]</th>\n",
       "      <th>minimum_balance_scaled</th>\n",
       "      <th>starting_balance_scaled</th>\n",
       "      <th>ending_balance_scaled</th>\n",
       "      <th>account_active_scaled</th>\n",
       "      <th>age_bin_(13, 20]_scaled</th>\n",
       "      <th>age_bin_(20, 40]_scaled</th>\n",
       "      <th>age_bin_(40, 60]_scaled</th>\n",
       "      <th>age_bin_(60, 90]_scaled</th>\n",
       "      <th>cluster</th>\n",
       "    </tr>\n",
       "  </thead>\n",
       "  <tbody>\n",
       "    <tr>\n",
       "      <th>0</th>\n",
       "      <td>BS</td>\n",
       "      <td>(20, 40]</td>\n",
       "      <td>100</td>\n",
       "      <td>113.04</td>\n",
       "      <td>122.54</td>\n",
       "      <td>-0.031251</td>\n",
       "      <td>1</td>\n",
       "      <td>0</td>\n",
       "      <td>1</td>\n",
       "      <td>0</td>\n",
       "      <td>0</td>\n",
       "      <td>-0.591528</td>\n",
       "      <td>-0.459092</td>\n",
       "      <td>-0.550376</td>\n",
       "      <td>0.345834</td>\n",
       "      <td>-0.509583</td>\n",
       "      <td>1.72823</td>\n",
       "      <td>-0.7097</td>\n",
       "      <td>-0.512571</td>\n",
       "      <td>1</td>\n",
       "    </tr>\n",
       "    <tr>\n",
       "      <th>1</th>\n",
       "      <td>BS</td>\n",
       "      <td>(20, 40]</td>\n",
       "      <td>100</td>\n",
       "      <td>113.04</td>\n",
       "      <td>122.54</td>\n",
       "      <td>-0.994107</td>\n",
       "      <td>1</td>\n",
       "      <td>0</td>\n",
       "      <td>1</td>\n",
       "      <td>0</td>\n",
       "      <td>0</td>\n",
       "      <td>-0.591528</td>\n",
       "      <td>-0.459092</td>\n",
       "      <td>-0.550376</td>\n",
       "      <td>0.345834</td>\n",
       "      <td>-0.509583</td>\n",
       "      <td>1.72823</td>\n",
       "      <td>-0.7097</td>\n",
       "      <td>-0.512571</td>\n",
       "      <td>1</td>\n",
       "    </tr>\n",
       "    <tr>\n",
       "      <th>2</th>\n",
       "      <td>BS</td>\n",
       "      <td>(20, 40]</td>\n",
       "      <td>100</td>\n",
       "      <td>113.04</td>\n",
       "      <td>122.54</td>\n",
       "      <td>0.555268</td>\n",
       "      <td>1</td>\n",
       "      <td>0</td>\n",
       "      <td>1</td>\n",
       "      <td>0</td>\n",
       "      <td>0</td>\n",
       "      <td>-0.591528</td>\n",
       "      <td>-0.459092</td>\n",
       "      <td>-0.550376</td>\n",
       "      <td>0.345834</td>\n",
       "      <td>-0.509583</td>\n",
       "      <td>1.72823</td>\n",
       "      <td>-0.7097</td>\n",
       "      <td>-0.512571</td>\n",
       "      <td>1</td>\n",
       "    </tr>\n",
       "    <tr>\n",
       "      <th>5</th>\n",
       "      <td>BS</td>\n",
       "      <td>(20, 40]</td>\n",
       "      <td>100</td>\n",
       "      <td>113.04</td>\n",
       "      <td>122.54</td>\n",
       "      <td>-0.031251</td>\n",
       "      <td>1</td>\n",
       "      <td>0</td>\n",
       "      <td>1</td>\n",
       "      <td>0</td>\n",
       "      <td>0</td>\n",
       "      <td>-0.591528</td>\n",
       "      <td>-0.459092</td>\n",
       "      <td>-0.550376</td>\n",
       "      <td>0.345834</td>\n",
       "      <td>-0.509583</td>\n",
       "      <td>1.72823</td>\n",
       "      <td>-0.7097</td>\n",
       "      <td>-0.512571</td>\n",
       "      <td>1</td>\n",
       "    </tr>\n",
       "    <tr>\n",
       "      <th>8</th>\n",
       "      <td>BS</td>\n",
       "      <td>(20, 40]</td>\n",
       "      <td>100</td>\n",
       "      <td>113.04</td>\n",
       "      <td>122.54</td>\n",
       "      <td>0.148922</td>\n",
       "      <td>1</td>\n",
       "      <td>0</td>\n",
       "      <td>1</td>\n",
       "      <td>0</td>\n",
       "      <td>0</td>\n",
       "      <td>-0.591528</td>\n",
       "      <td>-0.459092</td>\n",
       "      <td>-0.550376</td>\n",
       "      <td>0.345834</td>\n",
       "      <td>-0.509583</td>\n",
       "      <td>1.72823</td>\n",
       "      <td>-0.7097</td>\n",
       "      <td>-0.512571</td>\n",
       "      <td>1</td>\n",
       "    </tr>\n",
       "  </tbody>\n",
       "</table>\n",
       "</div>"
      ],
      "text/plain": [
       "  acct_type   age_bin  minimum_balance  starting_balance  ending_balance  \\\n",
       "0        BS  (20, 40]              100            113.04          122.54   \n",
       "1        BS  (20, 40]              100            113.04          122.54   \n",
       "2        BS  (20, 40]              100            113.04          122.54   \n",
       "5        BS  (20, 40]              100            113.04          122.54   \n",
       "8        BS  (20, 40]              100            113.04          122.54   \n",
       "\n",
       "   tran_amt  account_active  age_bin_(13, 20]  age_bin_(20, 40]  \\\n",
       "0 -0.031251               1                 0                 1   \n",
       "1 -0.994107               1                 0                 1   \n",
       "2  0.555268               1                 0                 1   \n",
       "5 -0.031251               1                 0                 1   \n",
       "8  0.148922               1                 0                 1   \n",
       "\n",
       "   age_bin_(40, 60]  age_bin_(60, 90]  minimum_balance_scaled  \\\n",
       "0                 0                 0               -0.591528   \n",
       "1                 0                 0               -0.591528   \n",
       "2                 0                 0               -0.591528   \n",
       "5                 0                 0               -0.591528   \n",
       "8                 0                 0               -0.591528   \n",
       "\n",
       "   starting_balance_scaled  ending_balance_scaled  account_active_scaled  \\\n",
       "0                -0.459092              -0.550376               0.345834   \n",
       "1                -0.459092              -0.550376               0.345834   \n",
       "2                -0.459092              -0.550376               0.345834   \n",
       "5                -0.459092              -0.550376               0.345834   \n",
       "8                -0.459092              -0.550376               0.345834   \n",
       "\n",
       "   age_bin_(13, 20]_scaled  age_bin_(20, 40]_scaled  age_bin_(40, 60]_scaled  \\\n",
       "0                -0.509583                  1.72823                  -0.7097   \n",
       "1                -0.509583                  1.72823                  -0.7097   \n",
       "2                -0.509583                  1.72823                  -0.7097   \n",
       "5                -0.509583                  1.72823                  -0.7097   \n",
       "8                -0.509583                  1.72823                  -0.7097   \n",
       "\n",
       "   age_bin_(60, 90]_scaled  cluster  \n",
       "0                -0.512571        1  \n",
       "1                -0.512571        1  \n",
       "2                -0.512571        1  \n",
       "5                -0.512571        1  \n",
       "8                -0.512571        1  "
      ]
     },
     "execution_count": 34,
     "metadata": {},
     "output_type": "execute_result"
    }
   ],
   "source": [
    "#Adding cluster column from output of model\n",
    "clustering_model = AgglomerativeClustering(n_clusters=3, linkage=\"ward\")\n",
    "cluster_new = cluster_data.iloc[:, 11:]\n",
    "\n",
    "clustering_model.fit(cluster_new)\n",
    "label = clustering_model.labels_\n",
    "print(label)\n",
    "\n",
    "cluster_data['cluster'] = label\n",
    "cluster_data.dropna(inplace = True)\n",
    "cluster_data.head()"
   ]
  },
  {
   "cell_type": "code",
   "execution_count": 35,
   "id": "2f92370d-aa01-4183-a751-aa41abbd78c9",
   "metadata": {},
   "outputs": [
    {
     "data": {
      "image/png": "[encoded data removed]",
      "text/plain": [
       "<Figure size 640x480 with 1 Axes>"
      ]
     },
     "metadata": {},
     "output_type": "display_data"
    },
    {
     "data": {
      "image/png": "[encoded data removed]",
      "text/plain": [
       "<Figure size 640x480 with 1 Axes>"
      ]
     },
     "metadata": {},
     "output_type": "display_data"
    },
    {
     "data": {
      "image/png": "[encoded data removed]",
      "text/plain": [
       "<Figure size 640x480 with 1 Axes>"
      ]
     },
     "metadata": {},
     "output_type": "display_data"
    },
    {
     "data": {
      "image/png": "[encoded data removed]",
      "text/plain": [
       "<Figure size 640x480 with 1 Axes>"
      ]
     },
     "metadata": {},
     "output_type": "display_data"
    }
   ],
   "source": [
    "# Visualize the results by total\n",
    "features = list(cluster_data.columns)[2:6]\n",
    "for x in features:\n",
    "  plt.figure()\n",
    "  cluster_data.groupby([\"cluster\"])[x].sum().plot(kind=\"bar\", ylabel='Total ' + x , xlabel='Cluster', figsize=(10, 6), subplots=True)\n",
    "  plt.show()"
   ]
  },
  {
   "cell_type": "code",
   "execution_count": 36,
   "id": "ea1b250c-f308-4a3f-af1d-fecd57e6b0d7",
   "metadata": {},
   "outputs": [
    {
     "data": {
      "image/png": "[encoded data removed]",
      "text/plain": [
       "<Figure size 640x480 with 1 Axes>"
      ]
     },
     "metadata": {},
     "output_type": "display_data"
    },
    {
     "data": {
      "image/png": "[encoded data removed]",
      "text/plain": [
       "<Figure size 640x480 with 1 Axes>"
      ]
     },
     "metadata": {},
     "output_type": "display_data"
    },
    {
     "data": {
      "image/png": "[encoded data removed]",
      "text/plain": [
       "<Figure size 640x480 with 1 Axes>"
      ]
     },
     "metadata": {},
     "output_type": "display_data"
    },
    {
     "data": {
      "image/png": "[encoded data removed]",
      "text/plain": [
       "<Figure size 640x480 with 1 Axes>"
      ]
     },
     "metadata": {},
     "output_type": "display_data"
    }
   ],
   "source": [
    "# Visualize the results by mean\n",
    "features = list(cluster_data.columns)[2:6]\n",
    "for x in features:\n",
    "  plt.figure()\n",
    "  cluster_data.groupby([\"cluster\"])[x].mean().plot(kind=\"bar\", ylabel='Mean ' + x , xlabel='Cluster', figsize=(10, 6), subplots=True)\n",
    "  plt.show()"
   ]
  },
  {
   "cell_type": "code",
   "execution_count": 37,
   "id": "335af962-ce58-41b0-9031-311874f9b8d6",
   "metadata": {},
   "outputs": [
    {
     "data": {
      "image/png": "[encoded data removed]",
      "text/plain": [
       "<Figure size 1600x1200 with 4 Axes>"
      ]
     },
     "metadata": {},
     "output_type": "display_data"
    }
   ],
   "source": [
    "# Cluster 0\n",
    "cluster0 = cluster_data[cluster_data['cluster'] == 0.0]\n",
    "fig, axs = plt.subplots(2, 2, figsize=(16, 12))\n",
    "import seaborn as sns\n",
    "sns.set(style='whitegrid', context='talk')\n",
    "for i in range(2):\n",
    "    for j in range(2):\n",
    "        cluster_1 = cluster0.sort_values(by=features[i*2 + j], ascending=False)\n",
    "        sns.barplot(y = 'age_bin', x=features[i*2 + j], data=cluster_1, ax=axs[i, j])\n",
    "        axs[i, j].set_ylabel('')\n",
    "\n",
    "fig.tight_layout()"
   ]
  },
  {
   "cell_type": "code",
   "execution_count": 38,
   "id": "d06cd3c2-6184-4291-b4f0-19b9358714f7",
   "metadata": {},
   "outputs": [
    {
     "data": {
      "image/png": "[encoded data removed]",
      "text/plain": [
       "<Figure size 1600x1200 with 4 Axes>"
      ]
     },
     "metadata": {},
     "output_type": "display_data"
    }
   ],
   "source": [
    "# Cluster 1\n",
    "cluster1 = cluster_data[cluster_data['cluster'] == 1.0]\n",
    "fig, axs = plt.subplots(2, 2, figsize=(16, 12))\n",
    "import seaborn as sns\n",
    "sns.set(style='whitegrid', context='talk')\n",
    "for i in range(2):\n",
    "    for j in range(2):\n",
    "        cluster_2 = cluster1.sort_values(by=features[i*2 + j], ascending=False)\n",
    "        sns.barplot(y = 'age_bin', x=features[i*2 + j], data=cluster_2, ax=axs[i, j])\n",
    "        axs[i, j].set_ylabel('')\n",
    "\n",
    "fig.tight_layout()"
   ]
  },
  {
   "cell_type": "code",
   "execution_count": 39,
   "id": "4395e1fa-5b88-4ab1-a746-6de85303eec0",
   "metadata": {},
   "outputs": [
    {
     "data": {
      "image/png": "[encoded data removed]",
      "text/plain": [
       "<Figure size 1600x1200 with 4 Axes>"
      ]
     },
     "metadata": {},
     "output_type": "display_data"
    }
   ],
   "source": [
    "# Cluster 2\n",
    "cluster2 = cluster_data[cluster_data['cluster'] == 2.0]\n",
    "fig, axs = plt.subplots(2, 2, figsize=(16, 12))\n",
    "import seaborn as sns\n",
    "sns.set(style='whitegrid', context='talk')\n",
    "for i in range(2):\n",
    "    for j in range(2):\n",
    "        cluster_3 = cluster2.sort_values(by=features[i*2 + j], ascending=False)\n",
    "        #clustertop = cluster2.head()\n",
    "        sns.barplot(y = 'age_bin', x=features[i*2 + j], data=cluster_3, ax=axs[i, j])\n",
    "        axs[i, j].set_ylabel('')\n",
    "\n",
    "fig.tight_layout()"
   ]
  },
  {
   "cell_type": "code",
   "execution_count": 40,
   "id": "ffa78b21-6f8c-414e-be35-db94afe897a6",
   "metadata": {},
   "outputs": [],
   "source": [
    "from sklearn.preprocessing import MinMaxScaler\n",
    "min_max_scale = MinMaxScaler()"
   ]
  },
  {
   "cell_type": "code",
   "execution_count": 41,
   "id": "43f00dfa-fd2f-4268-8299-ae568b53b8a2",
   "metadata": {},
   "outputs": [],
   "source": [
    "saving_radar = cluster_data[['cluster','account_active','minimum_balance','starting_balance','ending_balance','tran_amt', 'age_bin_(13, 20]', 'age_bin_(20, 40]', 'age_bin_(40, 60]', 'age_bin_(60, 90]']]"
   ]
  },
  {
   "cell_type": "code",
   "execution_count": 42,
   "id": "223667cf-458b-4981-aba8-10cef6a31e7a",
   "metadata": {},
   "outputs": [
    {
     "data": {
      "text/html": [
       "<div>\n",
       "<style scoped>\n",
       "    .dataframe tbody tr th:only-of-type {\n",
       "        vertical-align: middle;\n",
       "    }\n",
       "\n",
       "    .dataframe tbody tr th {\n",
       "        vertical-align: top;\n",
       "    }\n",
       "\n",
       "    .dataframe thead th {\n",
       "        text-align: right;\n",
       "    }\n",
       "</style>\n",
       "<table border=\"1\" class=\"dataframe\">\n",
       "  <thead>\n",
       "    <tr style=\"text-align: right;\">\n",
       "      <th></th>\n",
       "      <th>cluster</th>\n",
       "      <th>account_active</th>\n",
       "      <th>minimum_balance</th>\n",
       "      <th>starting_balance</th>\n",
       "      <th>ending_balance</th>\n",
       "      <th>tran_amt</th>\n",
       "      <th>age_bin_(13, 20]</th>\n",
       "      <th>age_bin_(20, 40]</th>\n",
       "      <th>age_bin_(40, 60]</th>\n",
       "      <th>age_bin_(60, 90]</th>\n",
       "    </tr>\n",
       "  </thead>\n",
       "  <tbody>\n",
       "    <tr>\n",
       "      <th>0</th>\n",
       "      <td>1</td>\n",
       "      <td>1</td>\n",
       "      <td>100</td>\n",
       "      <td>113.04</td>\n",
       "      <td>122.54</td>\n",
       "      <td>-0.031251</td>\n",
       "      <td>0</td>\n",
       "      <td>1</td>\n",
       "      <td>0</td>\n",
       "      <td>0</td>\n",
       "    </tr>\n",
       "    <tr>\n",
       "      <th>1</th>\n",
       "      <td>1</td>\n",
       "      <td>1</td>\n",
       "      <td>100</td>\n",
       "      <td>113.04</td>\n",
       "      <td>122.54</td>\n",
       "      <td>-0.994107</td>\n",
       "      <td>0</td>\n",
       "      <td>1</td>\n",
       "      <td>0</td>\n",
       "      <td>0</td>\n",
       "    </tr>\n",
       "    <tr>\n",
       "      <th>2</th>\n",
       "      <td>1</td>\n",
       "      <td>1</td>\n",
       "      <td>100</td>\n",
       "      <td>113.04</td>\n",
       "      <td>122.54</td>\n",
       "      <td>0.555268</td>\n",
       "      <td>0</td>\n",
       "      <td>1</td>\n",
       "      <td>0</td>\n",
       "      <td>0</td>\n",
       "    </tr>\n",
       "    <tr>\n",
       "      <th>5</th>\n",
       "      <td>1</td>\n",
       "      <td>1</td>\n",
       "      <td>100</td>\n",
       "      <td>113.04</td>\n",
       "      <td>122.54</td>\n",
       "      <td>-0.031251</td>\n",
       "      <td>0</td>\n",
       "      <td>1</td>\n",
       "      <td>0</td>\n",
       "      <td>0</td>\n",
       "    </tr>\n",
       "    <tr>\n",
       "      <th>8</th>\n",
       "      <td>1</td>\n",
       "      <td>1</td>\n",
       "      <td>100</td>\n",
       "      <td>113.04</td>\n",
       "      <td>122.54</td>\n",
       "      <td>0.148922</td>\n",
       "      <td>0</td>\n",
       "      <td>1</td>\n",
       "      <td>0</td>\n",
       "      <td>0</td>\n",
       "    </tr>\n",
       "    <tr>\n",
       "      <th>...</th>\n",
       "      <td>...</td>\n",
       "      <td>...</td>\n",
       "      <td>...</td>\n",
       "      <td>...</td>\n",
       "      <td>...</td>\n",
       "      <td>...</td>\n",
       "      <td>...</td>\n",
       "      <td>...</td>\n",
       "      <td>...</td>\n",
       "      <td>...</td>\n",
       "    </tr>\n",
       "    <tr>\n",
       "      <th>11184</th>\n",
       "      <td>1</td>\n",
       "      <td>1</td>\n",
       "      <td>100</td>\n",
       "      <td>167.71</td>\n",
       "      <td>161.04</td>\n",
       "      <td>-0.031251</td>\n",
       "      <td>0</td>\n",
       "      <td>1</td>\n",
       "      <td>0</td>\n",
       "      <td>0</td>\n",
       "    </tr>\n",
       "    <tr>\n",
       "      <th>11185</th>\n",
       "      <td>1</td>\n",
       "      <td>1</td>\n",
       "      <td>100</td>\n",
       "      <td>167.71</td>\n",
       "      <td>161.04</td>\n",
       "      <td>0.504814</td>\n",
       "      <td>0</td>\n",
       "      <td>1</td>\n",
       "      <td>0</td>\n",
       "      <td>0</td>\n",
       "    </tr>\n",
       "    <tr>\n",
       "      <th>11186</th>\n",
       "      <td>1</td>\n",
       "      <td>1</td>\n",
       "      <td>100</td>\n",
       "      <td>167.71</td>\n",
       "      <td>161.04</td>\n",
       "      <td>0.429810</td>\n",
       "      <td>0</td>\n",
       "      <td>1</td>\n",
       "      <td>0</td>\n",
       "      <td>0</td>\n",
       "    </tr>\n",
       "    <tr>\n",
       "      <th>11187</th>\n",
       "      <td>1</td>\n",
       "      <td>1</td>\n",
       "      <td>100</td>\n",
       "      <td>167.71</td>\n",
       "      <td>161.04</td>\n",
       "      <td>-0.186138</td>\n",
       "      <td>0</td>\n",
       "      <td>1</td>\n",
       "      <td>0</td>\n",
       "      <td>0</td>\n",
       "    </tr>\n",
       "    <tr>\n",
       "      <th>11188</th>\n",
       "      <td>1</td>\n",
       "      <td>1</td>\n",
       "      <td>100</td>\n",
       "      <td>167.71</td>\n",
       "      <td>161.04</td>\n",
       "      <td>0.068768</td>\n",
       "      <td>0</td>\n",
       "      <td>1</td>\n",
       "      <td>0</td>\n",
       "      <td>0</td>\n",
       "    </tr>\n",
       "  </tbody>\n",
       "</table>\n",
       "<p>5729 rows × 10 columns</p>\n",
       "</div>"
      ],
      "text/plain": [
       "       cluster  account_active  minimum_balance  starting_balance  \\\n",
       "0            1               1              100            113.04   \n",
       "1            1               1              100            113.04   \n",
       "2            1               1              100            113.04   \n",
       "5            1               1              100            113.04   \n",
       "8            1               1              100            113.04   \n",
       "...        ...             ...              ...               ...   \n",
       "11184        1               1              100            167.71   \n",
       "11185        1               1              100            167.71   \n",
       "11186        1               1              100            167.71   \n",
       "11187        1               1              100            167.71   \n",
       "11188        1               1              100            167.71   \n",
       "\n",
       "       ending_balance  tran_amt  age_bin_(13, 20]  age_bin_(20, 40]  \\\n",
       "0              122.54 -0.031251                 0                 1   \n",
       "1              122.54 -0.994107                 0                 1   \n",
       "2              122.54  0.555268                 0                 1   \n",
       "5              122.54 -0.031251                 0                 1   \n",
       "8              122.54  0.148922                 0                 1   \n",
       "...               ...       ...               ...               ...   \n",
       "11184          161.04 -0.031251                 0                 1   \n",
       "11185          161.04  0.504814                 0                 1   \n",
       "11186          161.04  0.429810                 0                 1   \n",
       "11187          161.04 -0.186138                 0                 1   \n",
       "11188          161.04  0.068768                 0                 1   \n",
       "\n",
       "       age_bin_(40, 60]  age_bin_(60, 90]  \n",
       "0                     0                 0  \n",
       "1                     0                 0  \n",
       "2                     0                 0  \n",
       "5                     0                 0  \n",
       "8                     0                 0  \n",
       "...                 ...               ...  \n",
       "11184                 0                 0  \n",
       "11185                 0                 0  \n",
       "11186                 0                 0  \n",
       "11187                 0                 0  \n",
       "11188                 0                 0  \n",
       "\n",
       "[5729 rows x 10 columns]"
      ]
     },
     "execution_count": 42,
     "metadata": {},
     "output_type": "execute_result"
    }
   ],
   "source": [
    "saving_radar"
   ]
  },
  {
   "cell_type": "code",
   "execution_count": 43,
   "id": "6775bfec-2e7f-4c0c-b3a5-b4172e029eb2",
   "metadata": {},
   "outputs": [
    {
     "name": "stderr",
     "output_type": "stream",
     "text": [
      "C:\\Users\\quang\\AppData\\Local\\Temp\\ipykernel_11080\\3063527871.py:2: SettingWithCopyWarning:\n",
      "\n",
      "\n",
      "A value is trying to be set on a copy of a slice from a DataFrame.\n",
      "Try using .loc[row_indexer,col_indexer] = value instead\n",
      "\n",
      "See the caveats in the documentation: https://pandas.pydata.org/pandas-docs/stable/user_guide/indexing.html#returning-a-view-versus-a-copy\n",
      "\n"
     ]
    },
    {
     "data": {
      "text/html": [
       "<div>\n",
       "<style scoped>\n",
       "    .dataframe tbody tr th:only-of-type {\n",
       "        vertical-align: middle;\n",
       "    }\n",
       "\n",
       "    .dataframe tbody tr th {\n",
       "        vertical-align: top;\n",
       "    }\n",
       "\n",
       "    .dataframe thead th {\n",
       "        text-align: right;\n",
       "    }\n",
       "</style>\n",
       "<table border=\"1\" class=\"dataframe\">\n",
       "  <thead>\n",
       "    <tr style=\"text-align: right;\">\n",
       "      <th></th>\n",
       "      <th>cluster</th>\n",
       "      <th>account_active</th>\n",
       "      <th>minimum_balance</th>\n",
       "      <th>starting_balance</th>\n",
       "      <th>ending_balance</th>\n",
       "      <th>tran_amt</th>\n",
       "      <th>age_bin_(13, 20]</th>\n",
       "      <th>age_bin_(20, 40]</th>\n",
       "      <th>age_bin_(40, 60]</th>\n",
       "      <th>age_bin_(60, 90]</th>\n",
       "    </tr>\n",
       "  </thead>\n",
       "  <tbody>\n",
       "    <tr>\n",
       "      <th>0</th>\n",
       "      <td>1</td>\n",
       "      <td>1.0</td>\n",
       "      <td>0.0</td>\n",
       "      <td>0.000744</td>\n",
       "      <td>0.005341</td>\n",
       "      <td>0.403056</td>\n",
       "      <td>0.0</td>\n",
       "      <td>1.0</td>\n",
       "      <td>0.0</td>\n",
       "      <td>0.0</td>\n",
       "    </tr>\n",
       "    <tr>\n",
       "      <th>1</th>\n",
       "      <td>1</td>\n",
       "      <td>1.0</td>\n",
       "      <td>0.0</td>\n",
       "      <td>0.000744</td>\n",
       "      <td>0.005341</td>\n",
       "      <td>0.362900</td>\n",
       "      <td>0.0</td>\n",
       "      <td>1.0</td>\n",
       "      <td>0.0</td>\n",
       "      <td>0.0</td>\n",
       "    </tr>\n",
       "    <tr>\n",
       "      <th>2</th>\n",
       "      <td>1</td>\n",
       "      <td>1.0</td>\n",
       "      <td>0.0</td>\n",
       "      <td>0.000744</td>\n",
       "      <td>0.005341</td>\n",
       "      <td>0.427517</td>\n",
       "      <td>0.0</td>\n",
       "      <td>1.0</td>\n",
       "      <td>0.0</td>\n",
       "      <td>0.0</td>\n",
       "    </tr>\n",
       "    <tr>\n",
       "      <th>5</th>\n",
       "      <td>1</td>\n",
       "      <td>1.0</td>\n",
       "      <td>0.0</td>\n",
       "      <td>0.000744</td>\n",
       "      <td>0.005341</td>\n",
       "      <td>0.403056</td>\n",
       "      <td>0.0</td>\n",
       "      <td>1.0</td>\n",
       "      <td>0.0</td>\n",
       "      <td>0.0</td>\n",
       "    </tr>\n",
       "    <tr>\n",
       "      <th>8</th>\n",
       "      <td>1</td>\n",
       "      <td>1.0</td>\n",
       "      <td>0.0</td>\n",
       "      <td>0.000744</td>\n",
       "      <td>0.005341</td>\n",
       "      <td>0.410570</td>\n",
       "      <td>0.0</td>\n",
       "      <td>1.0</td>\n",
       "      <td>0.0</td>\n",
       "      <td>0.0</td>\n",
       "    </tr>\n",
       "    <tr>\n",
       "      <th>...</th>\n",
       "      <td>...</td>\n",
       "      <td>...</td>\n",
       "      <td>...</td>\n",
       "      <td>...</td>\n",
       "      <td>...</td>\n",
       "      <td>...</td>\n",
       "      <td>...</td>\n",
       "      <td>...</td>\n",
       "      <td>...</td>\n",
       "      <td>...</td>\n",
       "    </tr>\n",
       "    <tr>\n",
       "      <th>11184</th>\n",
       "      <td>1</td>\n",
       "      <td>1.0</td>\n",
       "      <td>0.0</td>\n",
       "      <td>0.003922</td>\n",
       "      <td>0.007057</td>\n",
       "      <td>0.403056</td>\n",
       "      <td>0.0</td>\n",
       "      <td>1.0</td>\n",
       "      <td>0.0</td>\n",
       "      <td>0.0</td>\n",
       "    </tr>\n",
       "    <tr>\n",
       "      <th>11185</th>\n",
       "      <td>1</td>\n",
       "      <td>1.0</td>\n",
       "      <td>0.0</td>\n",
       "      <td>0.003922</td>\n",
       "      <td>0.007057</td>\n",
       "      <td>0.425412</td>\n",
       "      <td>0.0</td>\n",
       "      <td>1.0</td>\n",
       "      <td>0.0</td>\n",
       "      <td>0.0</td>\n",
       "    </tr>\n",
       "    <tr>\n",
       "      <th>11186</th>\n",
       "      <td>1</td>\n",
       "      <td>1.0</td>\n",
       "      <td>0.0</td>\n",
       "      <td>0.003922</td>\n",
       "      <td>0.007057</td>\n",
       "      <td>0.422284</td>\n",
       "      <td>0.0</td>\n",
       "      <td>1.0</td>\n",
       "      <td>0.0</td>\n",
       "      <td>0.0</td>\n",
       "    </tr>\n",
       "    <tr>\n",
       "      <th>11187</th>\n",
       "      <td>1</td>\n",
       "      <td>1.0</td>\n",
       "      <td>0.0</td>\n",
       "      <td>0.003922</td>\n",
       "      <td>0.007057</td>\n",
       "      <td>0.396596</td>\n",
       "      <td>0.0</td>\n",
       "      <td>1.0</td>\n",
       "      <td>0.0</td>\n",
       "      <td>0.0</td>\n",
       "    </tr>\n",
       "    <tr>\n",
       "      <th>11188</th>\n",
       "      <td>1</td>\n",
       "      <td>1.0</td>\n",
       "      <td>0.0</td>\n",
       "      <td>0.003922</td>\n",
       "      <td>0.007057</td>\n",
       "      <td>0.407227</td>\n",
       "      <td>0.0</td>\n",
       "      <td>1.0</td>\n",
       "      <td>0.0</td>\n",
       "      <td>0.0</td>\n",
       "    </tr>\n",
       "  </tbody>\n",
       "</table>\n",
       "<p>5729 rows × 10 columns</p>\n",
       "</div>"
      ],
      "text/plain": [
       "       cluster  account_active  minimum_balance  starting_balance  \\\n",
       "0            1             1.0              0.0          0.000744   \n",
       "1            1             1.0              0.0          0.000744   \n",
       "2            1             1.0              0.0          0.000744   \n",
       "5            1             1.0              0.0          0.000744   \n",
       "8            1             1.0              0.0          0.000744   \n",
       "...        ...             ...              ...               ...   \n",
       "11184        1             1.0              0.0          0.003922   \n",
       "11185        1             1.0              0.0          0.003922   \n",
       "11186        1             1.0              0.0          0.003922   \n",
       "11187        1             1.0              0.0          0.003922   \n",
       "11188        1             1.0              0.0          0.003922   \n",
       "\n",
       "       ending_balance  tran_amt  age_bin_(13, 20]  age_bin_(20, 40]  \\\n",
       "0            0.005341  0.403056               0.0               1.0   \n",
       "1            0.005341  0.362900               0.0               1.0   \n",
       "2            0.005341  0.427517               0.0               1.0   \n",
       "5            0.005341  0.403056               0.0               1.0   \n",
       "8            0.005341  0.410570               0.0               1.0   \n",
       "...               ...       ...               ...               ...   \n",
       "11184        0.007057  0.403056               0.0               1.0   \n",
       "11185        0.007057  0.425412               0.0               1.0   \n",
       "11186        0.007057  0.422284               0.0               1.0   \n",
       "11187        0.007057  0.396596               0.0               1.0   \n",
       "11188        0.007057  0.407227               0.0               1.0   \n",
       "\n",
       "       age_bin_(40, 60]  age_bin_(60, 90]  \n",
       "0                   0.0               0.0  \n",
       "1                   0.0               0.0  \n",
       "2                   0.0               0.0  \n",
       "5                   0.0               0.0  \n",
       "8                   0.0               0.0  \n",
       "...                 ...               ...  \n",
       "11184               0.0               0.0  \n",
       "11185               0.0               0.0  \n",
       "11186               0.0               0.0  \n",
       "11187               0.0               0.0  \n",
       "11188               0.0               0.0  \n",
       "\n",
       "[5729 rows x 10 columns]"
      ]
     },
     "execution_count": 43,
     "metadata": {},
     "output_type": "execute_result"
    }
   ],
   "source": [
    "col = ['account_active', 'minimum_balance', 'starting_balance', 'ending_balance','tran_amt', 'age_bin_(13, 20]', 'age_bin_(20, 40]', 'age_bin_(40, 60]', 'age_bin_(60, 90]']\n",
    "saving_radar[col] = min_max_scale.fit_transform(saving_radar[col])\n",
    "saving_radar"
   ]
  },
  {
   "cell_type": "code",
   "execution_count": 44,
   "id": "f80d731d-f7e3-49ab-a9d9-be1c3bc5b0f2",
   "metadata": {},
   "outputs": [
    {
     "data": {
      "text/html": [
       "<div>\n",
       "<style scoped>\n",
       "    .dataframe tbody tr th:only-of-type {\n",
       "        vertical-align: middle;\n",
       "    }\n",
       "\n",
       "    .dataframe tbody tr th {\n",
       "        vertical-align: top;\n",
       "    }\n",
       "\n",
       "    .dataframe thead th {\n",
       "        text-align: right;\n",
       "    }\n",
       "</style>\n",
       "<table border=\"1\" class=\"dataframe\">\n",
       "  <thead>\n",
       "    <tr style=\"text-align: right;\">\n",
       "      <th></th>\n",
       "      <th>cluster</th>\n",
       "      <th>account_active</th>\n",
       "      <th>minimum_balance</th>\n",
       "      <th>starting_balance</th>\n",
       "      <th>ending_balance</th>\n",
       "      <th>tran_amt</th>\n",
       "      <th>age_bin_(13, 20]</th>\n",
       "      <th>age_bin_(20, 40]</th>\n",
       "      <th>age_bin_(40, 60]</th>\n",
       "      <th>age_bin_(60, 90]</th>\n",
       "    </tr>\n",
       "  </thead>\n",
       "  <tbody>\n",
       "    <tr>\n",
       "      <th>0</th>\n",
       "      <td>0</td>\n",
       "      <td>1.000000</td>\n",
       "      <td>0.250271</td>\n",
       "      <td>0.099148</td>\n",
       "      <td>0.119684</td>\n",
       "      <td>0.405133</td>\n",
       "      <td>0.000000</td>\n",
       "      <td>0.060130</td>\n",
       "      <td>0.920910</td>\n",
       "      <td>0.018960</td>\n",
       "    </tr>\n",
       "    <tr>\n",
       "      <th>1</th>\n",
       "      <td>1</td>\n",
       "      <td>0.781663</td>\n",
       "      <td>0.225829</td>\n",
       "      <td>0.026438</td>\n",
       "      <td>0.046491</td>\n",
       "      <td>0.404137</td>\n",
       "      <td>0.036033</td>\n",
       "      <td>0.473065</td>\n",
       "      <td>0.078131</td>\n",
       "      <td>0.412772</td>\n",
       "    </tr>\n",
       "    <tr>\n",
       "      <th>2</th>\n",
       "      <td>2</td>\n",
       "      <td>1.000000</td>\n",
       "      <td>0.361111</td>\n",
       "      <td>0.042647</td>\n",
       "      <td>0.046913</td>\n",
       "      <td>0.403615</td>\n",
       "      <td>1.000000</td>\n",
       "      <td>0.000000</td>\n",
       "      <td>0.000000</td>\n",
       "      <td>0.000000</td>\n",
       "    </tr>\n",
       "  </tbody>\n",
       "</table>\n",
       "</div>"
      ],
      "text/plain": [
       "   cluster  account_active  minimum_balance  starting_balance  ending_balance  \\\n",
       "0        0        1.000000         0.250271          0.099148        0.119684   \n",
       "1        1        0.781663         0.225829          0.026438        0.046491   \n",
       "2        2        1.000000         0.361111          0.042647        0.046913   \n",
       "\n",
       "   tran_amt  age_bin_(13, 20]  age_bin_(20, 40]  age_bin_(40, 60]  \\\n",
       "0  0.405133          0.000000          0.060130          0.920910   \n",
       "1  0.404137          0.036033          0.473065          0.078131   \n",
       "2  0.403615          1.000000          0.000000          0.000000   \n",
       "\n",
       "   age_bin_(60, 90]  \n",
       "0          0.018960  \n",
       "1          0.412772  \n",
       "2          0.000000  "
      ]
     },
     "execution_count": 44,
     "metadata": {},
     "output_type": "execute_result"
    }
   ],
   "source": [
    "saving_radar = saving_radar.groupby(['cluster']).mean().reset_index()\n",
    "saving_radar"
   ]
  },
  {
   "cell_type": "code",
   "execution_count": 47,
   "id": "5a28d9cc-7365-41b2-8953-ec3d9c9da500",
   "metadata": {},
   "outputs": [],
   "source": [
    "import plotly.graph_objects as go\n",
    "def plot_radar(data):\n",
    "    fig = go.Figure()\n",
    "    num_cluster = saving_radar['cluster'].max() + 1\n",
    "    categories = list(saving_radar.columns)[1:10]\n",
    "    \n",
    "    for i in range(num_cluster):\n",
    "        r = saving_radar.iloc[i,1:].values\n",
    "        fig.add_trace(go.Scatterpolar(\n",
    "            r = r,\n",
    "            theta = categories,\n",
    "            fill = 'toself',\n",
    "            name = f'Cluster: {i}',\n",
    "            opacity = 0.5\n",
    "        ))\n",
    "    fig.update_layout(\n",
    "        polar=dict(\n",
    "            radialaxis=dict(\n",
    "                visible=True,\n",
    "                range=[0,0.5])),showlegend=True)\n",
    "    fig.show()"
   ]
  },
  {
   "cell_type": "code",
   "execution_count": 48,
   "id": "9f249bec-8352-40c0-a45e-1550af3a5c9a",
   "metadata": {},
   "outputs": [
    {
     "data": {
      "application/vnd.plotly.v1+json": {
       "config": {
        "plotlyServerURL": "https://plot.ly"
       },
       "data": [
        {
         "fill": "toself",
         "name": "Cluster: 0",
         "opacity": 0.5,
         "r": [
          1,
          0.2502708559046587,
          0.09914761601869027,
          0.11968351767721935,
          0.4051326300540801,
          0,
          0.060130010834236185,
          0.9209100758396533,
          0.01895991332611051
         ],
         "theta": [
          "account_active",
          "minimum_balance",
          "starting_balance",
          "ending_balance",
          "tran_amt",
          "age_bin_(13, 20]",
          "age_bin_(20, 40]",
          "age_bin_(40, 60]",
          "age_bin_(60, 90]"
         ],
         "type": "scatterpolar",
         "visible": "legendonly"
        },
        {
         "fill": "toself",
         "name": "Cluster: 1",
         "opacity": 0.5,
         "r": [
          0.7816625044595077,
          0.2258294684266857,
          0.026438187949667367,
          0.046491402472956335,
          0.4041369135488264,
          0.0360328219764538,
          0.4730645736710667,
          0.07813057438458794,
          0.41277202996789153
         ],
         "theta": [
          "account_active",
          "minimum_balance",
          "starting_balance",
          "ending_balance",
          "tran_amt",
          "age_bin_(13, 20]",
          "age_bin_(20, 40]",
          "age_bin_(40, 60]",
          "age_bin_(60, 90]"
         ],
         "type": "scatterpolar",
         "visible": "legendonly"
        },
        {
         "fill": "toself",
         "name": "Cluster: 2",
         "opacity": 0.5,
         "r": [
          1,
          0.3611111111111111,
          0.04264709855753199,
          0.04691316867914637,
          0.4036147384726044,
          1,
          0,
          0,
          0
         ],
         "theta": [
          "account_active",
          "minimum_balance",
          "starting_balance",
          "ending_balance",
          "tran_amt",
          "age_bin_(13, 20]",
          "age_bin_(20, 40]",
          "age_bin_(40, 60]",
          "age_bin_(60, 90]"
         ],
         "type": "scatterpolar",
         "visible": true
        }
       ],
       "layout": {
        "autosize": true,
        "polar": {
         "angularaxis": {
          "type": "category"
         },
         "radialaxis": {
          "autorange": false,
          "range": [
           0,
           0.5
          ],
          "type": "linear",
          "visible": true
         }
        },
        "showlegend": true,
        "template": {
         "data": {
          "bar": [
           {
            "error_x": {
             "color": "#2a3f5f"
            },
            "error_y": {
             "color": "#2a3f5f"
            },
            "marker": {
             "line": {
              "color": "#E5ECF6",
              "width": 0.5
             },
             "pattern": {
              "fillmode": "overlay",
              "size": 10,
              "solidity": 0.2
             }
            },
            "type": "bar"
           }
          ],
          "barpolar": [
           {
            "marker": {
             "line": {
              "color": "#E5ECF6",
              "width": 0.5
             },
             "pattern": {
              "fillmode": "overlay",
              "size": 10,
              "solidity": 0.2
             }
            },
            "type": "barpolar"
           }
          ],
          "carpet": [
           {
            "aaxis": {
             "endlinecolor": "#2a3f5f",
             "gridcolor": "white",
             "linecolor": "white",
             "minorgridcolor": "white",
             "startlinecolor": "#2a3f5f"
            },
            "baxis": {
             "endlinecolor": "#2a3f5f",
             "gridcolor": "white",
             "linecolor": "white",
             "minorgridcolor": "white",
             "startlinecolor": "#2a3f5f"
            },
            "type": "carpet"
           }
          ],
          "choropleth": [
           {
            "colorbar": {
             "outlinewidth": 0,
             "ticks": ""
            },
            "type": "choropleth"
           }
          ],
          "contour": [
           {
            "colorbar": {
             "outlinewidth": 0,
             "ticks": ""
            },
            "colorscale": [
             [
              0,
              "#0d0887"
             ],
             [
              0.1111111111111111,
              "#46039f"
             ],
             [
              0.2222222222222222,
              "#7201a8"
             ],
             [
              0.3333333333333333,
              "#9c179e"
             ],
             [
              0.4444444444444444,
              "#bd3786"
             ],
             [
              0.5555555555555556,
              "#d8576b"
             ],
             [
              0.6666666666666666,
              "#ed7953"
             ],
             [
              0.7777777777777778,
              "#fb9f3a"
             ],
             [
              0.8888888888888888,
              "#fdca26"
             ],
             [
              1,
              "#f0f921"
             ]
            ],
            "type": "contour"
           }
          ],
          "contourcarpet": [
           {
            "colorbar": {
             "outlinewidth": 0,
             "ticks": ""
            },
            "type": "contourcarpet"
           }
          ],
          "heatmap": [
           {
            "colorbar": {
             "outlinewidth": 0,
             "ticks": ""
            },
            "colorscale": [
             [
              0,
              "#0d0887"
             ],
             [
              0.1111111111111111,
              "#46039f"
             ],
             [
              0.2222222222222222,
              "#7201a8"
             ],
             [
              0.3333333333333333,
              "#9c179e"
             ],
             [
              0.4444444444444444,
              "#bd3786"
             ],
             [
              0.5555555555555556,
              "#d8576b"
             ],
             [
              0.6666666666666666,
              "#ed7953"
             ],
             [
              0.7777777777777778,
              "#fb9f3a"
             ],
             [
              0.8888888888888888,
              "#fdca26"
             ],
             [
              1,
              "#f0f921"
             ]
            ],
            "type": "heatmap"
           }
          ],
          "heatmapgl": [
           {
            "colorbar": {
             "outlinewidth": 0,
             "ticks": ""
            },
            "colorscale": [
             [
              0,
              "#0d0887"
             ],
             [
              0.1111111111111111,
              "#46039f"
             ],
             [
              0.2222222222222222,
              "#7201a8"
             ],
             [
              0.3333333333333333,
              "#9c179e"
             ],
             [
              0.4444444444444444,
              "#bd3786"
             ],
             [
              0.5555555555555556,
              "#d8576b"
             ],
             [
              0.6666666666666666,
              "#ed7953"
             ],
             [
              0.7777777777777778,
              "#fb9f3a"
             ],
             [
              0.8888888888888888,
              "#fdca26"
             ],
             [
              1,
              "#f0f921"
             ]
            ],
            "type": "heatmapgl"
           }
          ],
          "histogram": [
           {
            "marker": {
             "pattern": {
              "fillmode": "overlay",
              "size": 10,
              "solidity": 0.2
             }
            },
            "type": "histogram"
           }
          ],
          "histogram2d": [
           {
            "colorbar": {
             "outlinewidth": 0,
             "ticks": ""
            },
            "colorscale": [
             [
              0,
              "#0d0887"
             ],
             [
              0.1111111111111111,
              "#46039f"
             ],
             [
              0.2222222222222222,
              "#7201a8"
             ],
             [
              0.3333333333333333,
              "#9c179e"
             ],
             [
              0.4444444444444444,
              "#bd3786"
             ],
             [
              0.5555555555555556,
              "#d8576b"
             ],
             [
              0.6666666666666666,
              "#ed7953"
             ],
             [
              0.7777777777777778,
              "#fb9f3a"
             ],
             [
              0.8888888888888888,
              "#fdca26"
             ],
             [
              1,
              "#f0f921"
             ]
            ],
            "type": "histogram2d"
           }
          ],
          "histogram2dcontour": [
           {
            "colorbar": {
             "outlinewidth": 0,
             "ticks": ""
            },
            "colorscale": [
             [
              0,
              "#0d0887"
             ],
             [
              0.1111111111111111,
              "#46039f"
             ],
             [
              0.2222222222222222,
              "#7201a8"
             ],
             [
              0.3333333333333333,
              "#9c179e"
             ],
             [
              0.4444444444444444,
              "#bd3786"
             ],
             [
              0.5555555555555556,
              "#d8576b"
             ],
             [
              0.6666666666666666,
              "#ed7953"
             ],
             [
              0.7777777777777778,
              "#fb9f3a"
             ],
             [
              0.8888888888888888,
              "#fdca26"
             ],
             [
              1,
              "#f0f921"
             ]
            ],
            "type": "histogram2dcontour"
           }
          ],
          "mesh3d": [
           {
            "colorbar": {
             "outlinewidth": 0,
             "ticks": ""
            },
            "type": "mesh3d"
           }
          ],
          "parcoords": [
           {
            "line": {
             "colorbar": {
              "outlinewidth": 0,
              "ticks": ""
             }
            },
            "type": "parcoords"
           }
          ],
          "pie": [
           {
            "automargin": true,
            "type": "pie"
           }
          ],
          "scatter": [
           {
            "fillpattern": {
             "fillmode": "overlay",
             "size": 10,
             "solidity": 0.2
            },
            "type": "scatter"
           }
          ],
          "scatter3d": [
           {
            "line": {
             "colorbar": {
              "outlinewidth": 0,
              "ticks": ""
             }
            },
            "marker": {
             "colorbar": {
              "outlinewidth": 0,
              "ticks": ""
             }
            },
            "type": "scatter3d"
           }
          ],
          "scattercarpet": [
           {
            "marker": {
             "colorbar": {
              "outlinewidth": 0,
              "ticks": ""
             }
            },
            "type": "scattercarpet"
           }
          ],
          "scattergeo": [
           {
            "marker": {
             "colorbar": {
              "outlinewidth": 0,
              "ticks": ""
             }
            },
            "type": "scattergeo"
           }
          ],
          "scattergl": [
           {
            "marker": {
             "colorbar": {
              "outlinewidth": 0,
              "ticks": ""
             }
            },
            "type": "scattergl"
           }
          ],
          "scattermapbox": [
           {
            "marker": {
             "colorbar": {
              "outlinewidth": 0,
              "ticks": ""
             }
            },
            "type": "scattermapbox"
           }
          ],
          "scatterpolar": [
           {
            "marker": {
             "colorbar": {
              "outlinewidth": 0,
              "ticks": ""
             }
            },
            "type": "scatterpolar"
           }
          ],
          "scatterpolargl": [
           {
            "marker": {
             "colorbar": {
              "outlinewidth": 0,
              "ticks": ""
             }
            },
            "type": "scatterpolargl"
           }
          ],
          "scatterternary": [
           {
            "marker": {
             "colorbar": {
              "outlinewidth": 0,
              "ticks": ""
             }
            },
            "type": "scatterternary"
           }
          ],
          "surface": [
           {
            "colorbar": {
             "outlinewidth": 0,
             "ticks": ""
            },
            "colorscale": [
             [
              0,
              "#0d0887"
             ],
             [
              0.1111111111111111,
              "#46039f"
             ],
             [
              0.2222222222222222,
              "#7201a8"
             ],
             [
              0.3333333333333333,
              "#9c179e"
             ],
             [
              0.4444444444444444,
              "#bd3786"
             ],
             [
              0.5555555555555556,
              "#d8576b"
             ],
             [
              0.6666666666666666,
              "#ed7953"
             ],
             [
              0.7777777777777778,
              "#fb9f3a"
             ],
             [
              0.8888888888888888,
              "#fdca26"
             ],
             [
              1,
              "#f0f921"
             ]
            ],
            "type": "surface"
           }
          ],
          "table": [
           {
            "cells": {
             "fill": {
              "color": "#EBF0F8"
             },
             "line": {
              "color": "white"
             }
            },
            "header": {
             "fill": {
              "color": "#C8D4E3"
             },
             "line": {
              "color": "white"
             }
            },
            "type": "table"
           }
          ]
         },
         "layout": {
          "annotationdefaults": {
           "arrowcolor": "#2a3f5f",
           "arrowhead": 0,
           "arrowwidth": 1
          },
          "autotypenumbers": "strict",
          "coloraxis": {
           "colorbar": {
            "outlinewidth": 0,
            "ticks": ""
           }
          },
          "colorscale": {
           "diverging": [
            [
             0,
             "#8e0152"
            ],
            [
             0.1,
             "#c51b7d"
            ],
            [
             0.2,
             "#de77ae"
            ],
            [
             0.3,
             "#f1b6da"
            ],
            [
             0.4,
             "#fde0ef"
            ],
            [
             0.5,
             "#f7f7f7"
            ],
            [
             0.6,
             "#e6f5d0"
            ],
            [
             0.7,
             "#b8e186"
            ],
            [
             0.8,
             "#7fbc41"
            ],
            [
             0.9,
             "#4d9221"
            ],
            [
             1,
             "#276419"
            ]
           ],
           "sequential": [
            [
             0,
             "#0d0887"
            ],
            [
             0.1111111111111111,
             "#46039f"
            ],
            [
             0.2222222222222222,
             "#7201a8"
            ],
            [
             0.3333333333333333,
             "#9c179e"
            ],
            [
             0.4444444444444444,
             "#bd3786"
            ],
            [
             0.5555555555555556,
             "#d8576b"
            ],
            [
             0.6666666666666666,
             "#ed7953"
            ],
            [
             0.7777777777777778,
             "#fb9f3a"
            ],
            [
             0.8888888888888888,
             "#fdca26"
            ],
            [
             1,
             "#f0f921"
            ]
           ],
           "sequentialminus": [
            [
             0,
             "#0d0887"
            ],
            [
             0.1111111111111111,
             "#46039f"
            ],
            [
             0.2222222222222222,
             "#7201a8"
            ],
            [
             0.3333333333333333,
             "#9c179e"
            ],
            [
             0.4444444444444444,
             "#bd3786"
            ],
            [
             0.5555555555555556,
             "#d8576b"
            ],
            [
             0.6666666666666666,
             "#ed7953"
            ],
            [
             0.7777777777777778,
             "#fb9f3a"
            ],
            [
             0.8888888888888888,
             "#fdca26"
            ],
            [
             1,
             "#f0f921"
            ]
           ]
          },
          "colorway": [
           "#636efa",
           "#EF553B",
           "#00cc96",
           "#ab63fa",
           "#FFA15A",
           "#19d3f3",
           "#FF6692",
           "#B6E880",
           "#FF97FF",
           "#FECB52"
          ],
          "font": {
           "color": "#2a3f5f"
          },
          "geo": {
           "bgcolor": "white",
           "lakecolor": "white",
           "landcolor": "#E5ECF6",
           "showlakes": true,
           "showland": true,
           "subunitcolor": "white"
          },
          "hoverlabel": {
           "align": "left"
          },
          "hovermode": "closest",
          "mapbox": {
           "style": "light"
          },
          "paper_bgcolor": "white",
          "plot_bgcolor": "#E5ECF6",
          "polar": {
           "angularaxis": {
            "gridcolor": "white",
            "linecolor": "white",
            "ticks": ""
           },
           "bgcolor": "#E5ECF6",
           "radialaxis": {
            "gridcolor": "white",
            "linecolor": "white",
            "ticks": ""
           }
          },
          "scene": {
           "xaxis": {
            "backgroundcolor": "#E5ECF6",
            "gridcolor": "white",
            "gridwidth": 2,
            "linecolor": "white",
            "showbackground": true,
            "ticks": "",
            "zerolinecolor": "white"
           },
           "yaxis": {
            "backgroundcolor": "#E5ECF6",
            "gridcolor": "white",
            "gridwidth": 2,
            "linecolor": "white",
            "showbackground": true,
            "ticks": "",
            "zerolinecolor": "white"
           },
           "zaxis": {
            "backgroundcolor": "#E5ECF6",
            "gridcolor": "white",
            "gridwidth": 2,
            "linecolor": "white",
            "showbackground": true,
            "ticks": "",
            "zerolinecolor": "white"
           }
          },
          "shapedefaults": {
           "line": {
            "color": "#2a3f5f"
           }
          },
          "ternary": {
           "aaxis": {
            "gridcolor": "white",
            "linecolor": "white",
            "ticks": ""
           },
           "baxis": {
            "gridcolor": "white",
            "linecolor": "white",
            "ticks": ""
           },
           "bgcolor": "#E5ECF6",
           "caxis": {
            "gridcolor": "white",
            "linecolor": "white",
            "ticks": ""
           }
          },
          "title": {
           "x": 0.05
          },
          "xaxis": {
           "automargin": true,
           "gridcolor": "white",
           "linecolor": "white",
           "ticks": "",
           "title": {
            "standoff": 15
           },
           "zerolinecolor": "white",
           "zerolinewidth": 2
          },
          "yaxis": {
           "automargin": true,
           "gridcolor": "white",
           "linecolor": "white",
           "ticks": "",
           "title": {
            "standoff": 15
           },
           "zerolinecolor": "white",
           "zerolinewidth": 2
          }
         }
        }
       }
      },
      "image/png": "[encoded data removed]",
      "text/html": [
       "<div>                            <div id=\"efd7d1c7-d9ae-4b77-9588-45e75d0595e3\" class=\"plotly-graph-div\" style=\"height:525px; width:100%;\"></div>            <script type=\"text/javascript\">                require([\"plotly\"], function(Plotly) {                    window.PLOTLYENV=window.PLOTLYENV || {};                                    if (document.getElementById(\"efd7d1c7-d9ae-4b77-9588-45e75d0595e3\")) {                    Plotly.newPlot(                        \"efd7d1c7-d9ae-4b77-9588-45e75d0595e3\",                        [{\"fill\":\"toself\",\"name\":\"Cluster: 0\",\"opacity\":0.5,\"r\":[1.0,0.2502708559046587,0.09914761601869027,0.11968351767721935,0.4051326300540801,0.0,0.060130010834236185,0.9209100758396533,0.01895991332611051],\"theta\":[\"account_active\",\"minimum_balance\",\"starting_balance\",\"ending_balance\",\"tran_amt\",\"age_bin_(13, 20]\",\"age_bin_(20, 40]\",\"age_bin_(40, 60]\",\"age_bin_(60, 90]\"],\"type\":\"scatterpolar\"},{\"fill\":\"toself\",\"name\":\"Cluster: 1\",\"opacity\":0.5,\"r\":[0.7816625044595077,0.2258294684266857,0.026438187949667367,0.046491402472956335,0.4041369135488264,0.0360328219764538,0.4730645736710667,0.07813057438458794,0.41277202996789153],\"theta\":[\"account_active\",\"minimum_balance\",\"starting_balance\",\"ending_balance\",\"tran_amt\",\"age_bin_(13, 20]\",\"age_bin_(20, 40]\",\"age_bin_(40, 60]\",\"age_bin_(60, 90]\"],\"type\":\"scatterpolar\"},{\"fill\":\"toself\",\"name\":\"Cluster: 2\",\"opacity\":0.5,\"r\":[1.0,0.3611111111111111,0.04264709855753199,0.04691316867914637,0.4036147384726044,1.0,0.0,0.0,0.0],\"theta\":[\"account_active\",\"minimum_balance\",\"starting_balance\",\"ending_balance\",\"tran_amt\",\"age_bin_(13, 20]\",\"age_bin_(20, 40]\",\"age_bin_(40, 60]\",\"age_bin_(60, 90]\"],\"type\":\"scatterpolar\"}],                        {\"template\":{\"data\":{\"histogram2dcontour\":[{\"type\":\"histogram2dcontour\",\"colorbar\":{\"outlinewidth\":0,\"ticks\":\"\"},\"colorscale\":[[0.0,\"#0d0887\"],[0.1111111111111111,\"#46039f\"],[0.2222222222222222,\"#7201a8\"],[0.3333333333333333,\"#9c179e\"],[0.4444444444444444,\"#bd3786\"],[0.5555555555555556,\"#d8576b\"],[0.6666666666666666,\"#ed7953\"],[0.7777777777777778,\"#fb9f3a\"],[0.8888888888888888,\"#fdca26\"],[1.0,\"#f0f921\"]]}],\"choropleth\":[{\"type\":\"choropleth\",\"colorbar\":{\"outlinewidth\":0,\"ticks\":\"\"}}],\"histogram2d\":[{\"type\":\"histogram2d\",\"colorbar\":{\"outlinewidth\":0,\"ticks\":\"\"},\"colorscale\":[[0.0,\"#0d0887\"],[0.1111111111111111,\"#46039f\"],[0.2222222222222222,\"#7201a8\"],[0.3333333333333333,\"#9c179e\"],[0.4444444444444444,\"#bd3786\"],[0.5555555555555556,\"#d8576b\"],[0.6666666666666666,\"#ed7953\"],[0.7777777777777778,\"#fb9f3a\"],[0.8888888888888888,\"#fdca26\"],[1.0,\"#f0f921\"]]}],\"heatmap\":[{\"type\":\"heatmap\",\"colorbar\":{\"outlinewidth\":0,\"ticks\":\"\"},\"colorscale\":[[0.0,\"#0d0887\"],[0.1111111111111111,\"#46039f\"],[0.2222222222222222,\"#7201a8\"],[0.3333333333333333,\"#9c179e\"],[0.4444444444444444,\"#bd3786\"],[0.5555555555555556,\"#d8576b\"],[0.6666666666666666,\"#ed7953\"],[0.7777777777777778,\"#fb9f3a\"],[0.8888888888888888,\"#fdca26\"],[1.0,\"#f0f921\"]]}],\"heatmapgl\":[{\"type\":\"heatmapgl\",\"colorbar\":{\"outlinewidth\":0,\"ticks\":\"\"},\"colorscale\":[[0.0,\"#0d0887\"],[0.1111111111111111,\"#46039f\"],[0.2222222222222222,\"#7201a8\"],[0.3333333333333333,\"#9c179e\"],[0.4444444444444444,\"#bd3786\"],[0.5555555555555556,\"#d8576b\"],[0.6666666666666666,\"#ed7953\"],[0.7777777777777778,\"#fb9f3a\"],[0.8888888888888888,\"#fdca26\"],[1.0,\"#f0f921\"]]}],\"contourcarpet\":[{\"type\":\"contourcarpet\",\"colorbar\":{\"outlinewidth\":0,\"ticks\":\"\"}}],\"contour\":[{\"type\":\"contour\",\"colorbar\":{\"outlinewidth\":0,\"ticks\":\"\"},\"colorscale\":[[0.0,\"#0d0887\"],[0.1111111111111111,\"#46039f\"],[0.2222222222222222,\"#7201a8\"],[0.3333333333333333,\"#9c179e\"],[0.4444444444444444,\"#bd3786\"],[0.5555555555555556,\"#d8576b\"],[0.6666666666666666,\"#ed7953\"],[0.7777777777777778,\"#fb9f3a\"],[0.8888888888888888,\"#fdca26\"],[1.0,\"#f0f921\"]]}],\"surface\":[{\"type\":\"surface\",\"colorbar\":{\"outlinewidth\":0,\"ticks\":\"\"},\"colorscale\":[[0.0,\"#0d0887\"],[0.1111111111111111,\"#46039f\"],[0.2222222222222222,\"#7201a8\"],[0.3333333333333333,\"#9c179e\"],[0.4444444444444444,\"#bd3786\"],[0.5555555555555556,\"#d8576b\"],[0.6666666666666666,\"#ed7953\"],[0.7777777777777778,\"#fb9f3a\"],[0.8888888888888888,\"#fdca26\"],[1.0,\"#f0f921\"]]}],\"mesh3d\":[{\"type\":\"mesh3d\",\"colorbar\":{\"outlinewidth\":0,\"ticks\":\"\"}}],\"scatter\":[{\"fillpattern\":{\"fillmode\":\"overlay\",\"size\":10,\"solidity\":0.2},\"type\":\"scatter\"}],\"parcoords\":[{\"type\":\"parcoords\",\"line\":{\"colorbar\":{\"outlinewidth\":0,\"ticks\":\"\"}}}],\"scatterpolargl\":[{\"type\":\"scatterpolargl\",\"marker\":{\"colorbar\":{\"outlinewidth\":0,\"ticks\":\"\"}}}],\"bar\":[{\"error_x\":{\"color\":\"#2a3f5f\"},\"error_y\":{\"color\":\"#2a3f5f\"},\"marker\":{\"line\":{\"color\":\"#E5ECF6\",\"width\":0.5},\"pattern\":{\"fillmode\":\"overlay\",\"size\":10,\"solidity\":0.2}},\"type\":\"bar\"}],\"scattergeo\":[{\"type\":\"scattergeo\",\"marker\":{\"colorbar\":{\"outlinewidth\":0,\"ticks\":\"\"}}}],\"scatterpolar\":[{\"type\":\"scatterpolar\",\"marker\":{\"colorbar\":{\"outlinewidth\":0,\"ticks\":\"\"}}}],\"histogram\":[{\"marker\":{\"pattern\":{\"fillmode\":\"overlay\",\"size\":10,\"solidity\":0.2}},\"type\":\"histogram\"}],\"scattergl\":[{\"type\":\"scattergl\",\"marker\":{\"colorbar\":{\"outlinewidth\":0,\"ticks\":\"\"}}}],\"scatter3d\":[{\"type\":\"scatter3d\",\"line\":{\"colorbar\":{\"outlinewidth\":0,\"ticks\":\"\"}},\"marker\":{\"colorbar\":{\"outlinewidth\":0,\"ticks\":\"\"}}}],\"scattermapbox\":[{\"type\":\"scattermapbox\",\"marker\":{\"colorbar\":{\"outlinewidth\":0,\"ticks\":\"\"}}}],\"scatterternary\":[{\"type\":\"scatterternary\",\"marker\":{\"colorbar\":{\"outlinewidth\":0,\"ticks\":\"\"}}}],\"scattercarpet\":[{\"type\":\"scattercarpet\",\"marker\":{\"colorbar\":{\"outlinewidth\":0,\"ticks\":\"\"}}}],\"carpet\":[{\"aaxis\":{\"endlinecolor\":\"#2a3f5f\",\"gridcolor\":\"white\",\"linecolor\":\"white\",\"minorgridcolor\":\"white\",\"startlinecolor\":\"#2a3f5f\"},\"baxis\":{\"endlinecolor\":\"#2a3f5f\",\"gridcolor\":\"white\",\"linecolor\":\"white\",\"minorgridcolor\":\"white\",\"startlinecolor\":\"#2a3f5f\"},\"type\":\"carpet\"}],\"table\":[{\"cells\":{\"fill\":{\"color\":\"#EBF0F8\"},\"line\":{\"color\":\"white\"}},\"header\":{\"fill\":{\"color\":\"#C8D4E3\"},\"line\":{\"color\":\"white\"}},\"type\":\"table\"}],\"barpolar\":[{\"marker\":{\"line\":{\"color\":\"#E5ECF6\",\"width\":0.5},\"pattern\":{\"fillmode\":\"overlay\",\"size\":10,\"solidity\":0.2}},\"type\":\"barpolar\"}],\"pie\":[{\"automargin\":true,\"type\":\"pie\"}]},\"layout\":{\"autotypenumbers\":\"strict\",\"colorway\":[\"#636efa\",\"#EF553B\",\"#00cc96\",\"#ab63fa\",\"#FFA15A\",\"#19d3f3\",\"#FF6692\",\"#B6E880\",\"#FF97FF\",\"#FECB52\"],\"font\":{\"color\":\"#2a3f5f\"},\"hovermode\":\"closest\",\"hoverlabel\":{\"align\":\"left\"},\"paper_bgcolor\":\"white\",\"plot_bgcolor\":\"#E5ECF6\",\"polar\":{\"bgcolor\":\"#E5ECF6\",\"angularaxis\":{\"gridcolor\":\"white\",\"linecolor\":\"white\",\"ticks\":\"\"},\"radialaxis\":{\"gridcolor\":\"white\",\"linecolor\":\"white\",\"ticks\":\"\"}},\"ternary\":{\"bgcolor\":\"#E5ECF6\",\"aaxis\":{\"gridcolor\":\"white\",\"linecolor\":\"white\",\"ticks\":\"\"},\"baxis\":{\"gridcolor\":\"white\",\"linecolor\":\"white\",\"ticks\":\"\"},\"caxis\":{\"gridcolor\":\"white\",\"linecolor\":\"white\",\"ticks\":\"\"}},\"coloraxis\":{\"colorbar\":{\"outlinewidth\":0,\"ticks\":\"\"}},\"colorscale\":{\"sequential\":[[0.0,\"#0d0887\"],[0.1111111111111111,\"#46039f\"],[0.2222222222222222,\"#7201a8\"],[0.3333333333333333,\"#9c179e\"],[0.4444444444444444,\"#bd3786\"],[0.5555555555555556,\"#d8576b\"],[0.6666666666666666,\"#ed7953\"],[0.7777777777777778,\"#fb9f3a\"],[0.8888888888888888,\"#fdca26\"],[1.0,\"#f0f921\"]],\"sequentialminus\":[[0.0,\"#0d0887\"],[0.1111111111111111,\"#46039f\"],[0.2222222222222222,\"#7201a8\"],[0.3333333333333333,\"#9c179e\"],[0.4444444444444444,\"#bd3786\"],[0.5555555555555556,\"#d8576b\"],[0.6666666666666666,\"#ed7953\"],[0.7777777777777778,\"#fb9f3a\"],[0.8888888888888888,\"#fdca26\"],[1.0,\"#f0f921\"]],\"diverging\":[[0,\"#8e0152\"],[0.1,\"#c51b7d\"],[0.2,\"#de77ae\"],[0.3,\"#f1b6da\"],[0.4,\"#fde0ef\"],[0.5,\"#f7f7f7\"],[0.6,\"#e6f5d0\"],[0.7,\"#b8e186\"],[0.8,\"#7fbc41\"],[0.9,\"#4d9221\"],[1,\"#276419\"]]},\"xaxis\":{\"gridcolor\":\"white\",\"linecolor\":\"white\",\"ticks\":\"\",\"title\":{\"standoff\":15},\"zerolinecolor\":\"white\",\"automargin\":true,\"zerolinewidth\":2},\"yaxis\":{\"gridcolor\":\"white\",\"linecolor\":\"white\",\"ticks\":\"\",\"title\":{\"standoff\":15},\"zerolinecolor\":\"white\",\"automargin\":true,\"zerolinewidth\":2},\"scene\":{\"xaxis\":{\"backgroundcolor\":\"#E5ECF6\",\"gridcolor\":\"white\",\"linecolor\":\"white\",\"showbackground\":true,\"ticks\":\"\",\"zerolinecolor\":\"white\",\"gridwidth\":2},\"yaxis\":{\"backgroundcolor\":\"#E5ECF6\",\"gridcolor\":\"white\",\"linecolor\":\"white\",\"showbackground\":true,\"ticks\":\"\",\"zerolinecolor\":\"white\",\"gridwidth\":2},\"zaxis\":{\"backgroundcolor\":\"#E5ECF6\",\"gridcolor\":\"white\",\"linecolor\":\"white\",\"showbackground\":true,\"ticks\":\"\",\"zerolinecolor\":\"white\",\"gridwidth\":2}},\"shapedefaults\":{\"line\":{\"color\":\"#2a3f5f\"}},\"annotationdefaults\":{\"arrowcolor\":\"#2a3f5f\",\"arrowhead\":0,\"arrowwidth\":1},\"geo\":{\"bgcolor\":\"white\",\"landcolor\":\"#E5ECF6\",\"subunitcolor\":\"white\",\"showland\":true,\"showlakes\":true,\"lakecolor\":\"white\"},\"title\":{\"x\":0.05},\"mapbox\":{\"style\":\"light\"}}},\"polar\":{\"radialaxis\":{\"visible\":true,\"range\":[0,0.5]}},\"showlegend\":true},                        {\"responsive\": true}                    ).then(function(){\n",
       "                            \n",
       "var gd = document.getElementById('efd7d1c7-d9ae-4b77-9588-45e75d0595e3');\n",
       "var x = new MutationObserver(function (mutations, observer) {{\n",
       "        var display = window.getComputedStyle(gd).display;\n",
       "        if (!display || display === 'none') {{\n",
       "            console.log([gd, 'removed!']);\n",
       "            Plotly.purge(gd);\n",
       "            observer.disconnect();\n",
       "        }}\n",
       "}});\n",
       "\n",
       "// Listen for the removal of the full notebook cells\n",
       "var notebookContainer = gd.closest('#notebook-container');\n",
       "if (notebookContainer) {{\n",
       "    x.observe(notebookContainer, {childList: true});\n",
       "}}\n",
       "\n",
       "// Listen for the clearing of the current output cell\n",
       "var outputEl = gd.closest('.output');\n",
       "if (outputEl) {{\n",
       "    x.observe(outputEl, {childList: true});\n",
       "}}\n",
       "\n",
       "                        })                };                });            </script>        </div>"
      ]
     },
     "metadata": {},
     "output_type": "display_data"
    }
   ],
   "source": [
    "plot_radar(saving_radar)"
   ]
  },
  {
   "cell_type": "code",
   "execution_count": null,
   "id": "b80c109e-2a05-49f9-bbc6-903b2e64c466",
   "metadata": {},
   "outputs": [],
   "source": []
  }
 ],
 "metadata": {
  "kernelspec": {
   "display_name": "pandas_playground",
   "language": "python",
   "name": "pandas_playground"
  },
  "language_info": {
   "codemirror_mode": {
    "name": "ipython",
    "version": 3
   },
   "file_extension": ".py",
   "mimetype": "text/x-python",
   "name": "python",
   "nbconvert_exporter": "python",
   "pygments_lexer": "ipython3",
   "version": "3.10.6"
  }
 },
 "nbformat": 4,
 "nbformat_minor": 5
}
