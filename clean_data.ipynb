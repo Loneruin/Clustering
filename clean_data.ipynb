{
 "cells": [
  {
   "cell_type": "code",
   "execution_count": 1,
   "id": "7833f811-c4ab-499a-9623-68cab7596eff",
   "metadata": {},
   "outputs": [],
   "source": [
    "import pandas as pd\n",
    "import numpy as np"
   ]
  },
  {
   "cell_type": "code",
   "execution_count": 2,
   "id": "5cf49950-7a19-4666-ad6e-d2aea7ccb203",
   "metadata": {},
   "outputs": [],
   "source": [
    "customer = pd.read_csv(\"D:\\\\Python(New)\\\\Project\\\\Project_Week_5\\\\Mini_Project_Week_5\\\\original\\\\twm_customer.csv\", sep = \";\")\n",
    "accounts = pd.read_csv(\"D:\\\\Python(New)\\\\Project\\\\Project_Week_5\\\\Mini_Project_Week_5\\\\original\\\\twm_accounts.csv\", sep = \";\")\n",
    "transactions = pd.read_csv(\"D:\\\\Python(New)\\\\Project\\\\Project_Week_5\\\\Mini_Project_Week_5\\\\original\\\\twm_transactions.csv\", sep = \";\")\n",
    "\n",
    "account_checking = pd.read_csv(\"D:\\\\Python(New)\\\\Project\\\\Project_Week_5\\\\Mini_Project_Week_5\\\\original\\\\twm_checking_acct.csv\", sep = \";\")\n",
    "account_checking_transactions = pd.read_csv(\"D:\\\\Python(New)\\\\Project\\\\Project_Week_5\\\\Mini_Project_Week_5\\\\original\\\\twm_checking_tran.csv\", sep = \";\")\n",
    "\n",
    "saving_account = pd.read_csv(\"D:\\\\Python(New)\\\\Project\\\\Project_Week_5\\\\Mini_Project_Week_5\\\\original\\\\twm_savings_acct.csv\", sep = \";\")\n",
    "saving_transactions = pd.read_csv(\"D:\\\\Python(New)\\\\Project\\\\Project_Week_5\\\\Mini_Project_Week_5\\\\original\\\\twm_savings_tran.csv\", sep = \";\")\n",
    "\n",
    "credit_account = pd.read_csv(\"D:\\\\Python(New)\\\\Project\\\\Project_Week_5\\\\Mini_Project_Week_5\\\\original\\\\twm_credit_acct.csv\", sep = \";\")\n",
    "credit_transactions = pd.read_csv(\"D:\\\\Python(New)\\\\Project\\\\Project_Week_5\\\\Mini_Project_Week_5\\\\original\\\\twm_credit_tran.csv\", sep = \";\")"
   ]
  },
  {
   "cell_type": "code",
   "execution_count": 3,
   "id": "8850caa4-0b75-4691-a13d-823ebff475bb",
   "metadata": {},
   "outputs": [],
   "source": [
    "# Remove the white space from string columns\n",
    "all_data = [customer, accounts, account_checking, account_checking_transactions, saving_account, saving_transactions, credit_account, credit_transactions]\n",
    "for i in range(len(all_data)):\n",
    "    for white_space in all_data[i].select_dtypes('object'):\n",
    "        all_data[i][white_space] = all_data[i][white_space].str.strip()\n",
    "customer, accounts, account_checking, account_checking_transactions, saving_account, saving_transactions, credit_account, credit_transactions = all_data"
   ]
  },
  {
   "cell_type": "code",
   "execution_count": 4,
   "id": "538465dd-70b3-4d7b-aab6-5983fdecf482",
   "metadata": {},
   "outputs": [],
   "source": [
    "# Make account number uniform as string datatype\n",
    "account_number = [accounts, transactions, account_checking, saving_account, credit_account]\n",
    "for number in account_number:\n",
    "    number['acct_nbr'] = number['acct_nbr'].astype(str)\n",
    "accounts, transactions, account_checking, saving_account, credit_account = account_number"
   ]
  },
  {
   "cell_type": "code",
   "execution_count": 5,
   "id": "f455640d-df47-4642-ac40-8c7a544ea47d",
   "metadata": {},
   "outputs": [],
   "source": [
    "#transactions_data = [transactions, account_checking_transactions, saving_transactions, credit_transactions]\n",
    "#for i in range(len(transactions_data)):\n",
    "#    transactions_data[i]['tran_time'] = transactions_data[i]['tran_time'].astype(str)\n",
    "#    transactions_data[i]['tran_time'] = transactions_data[i]['tran_time'].replace('',np.nan)\n",
    "#    transactions_data[i].loc[(transactions_data[i]['tran_time'].str.len() > 6) | (transactions_data[i]['tran_time'].str.len() <=4),'tran_time'] = np.nan\n",
    "#    transactions_data[i]['tran_time'] = pd.to_datetime(transactions_data[i]['tran_time'], format='%H%M%S').dt.hour"
   ]
  },
  {
   "cell_type": "code",
   "execution_count": 6,
   "id": "0c562e6b-b487-4002-8c19-1741d75337c2",
   "metadata": {},
   "outputs": [],
   "source": [
    "customer.to_csv(\"D:\\\\Python(New)\\\\Project\\\\Project_Week_5\\\\Mini_Project_Week_5\\\\clean\\\\customer.csv\", index = False)\n",
    "\n",
    "accounts.to_csv(\"D:\\\\Python(New)\\\\Project\\\\Project_Week_5\\\\Mini_Project_Week_5\\\\clean\\\\accounts.csv\", index = False)\n",
    "\n",
    "transactions.to_csv(\"D:\\\\Python(New)\\\\Project\\\\Project_Week_5\\\\Mini_Project_Week_5\\\\clean\\\\transactions.csv\", index = False)\n",
    "\n",
    "account_checking.to_csv(\"D:\\\\Python(New)\\\\Project\\\\Project_Week_5\\\\Mini_Project_Week_5\\\\clean\\\\account_checking.csv\", index = False)\n",
    "account_checking_transactions.to_csv(\"D:\\\\Python(New)\\\\Project\\\\Project_Week_5\\\\Mini_Project_Week_5\\\\clean\\\\account_checking_transactions.csv\", index = False)\n",
    "\n",
    "saving_account.to_csv(\"D:\\\\Python(New)\\\\Project\\\\Project_Week_5\\\\Mini_Project_Week_5\\\\clean\\\\saving_accounts.csv\", index = False)\n",
    "saving_transactions.to_csv(\"D:\\\\Python(New)\\\\Project\\\\Project_Week_5\\\\Mini_Project_Week_5\\\\clean\\\\saving_transactions.csv\", index = False)\n",
    "\n",
    "credit_account.to_csv(\"D:\\\\Python(New)\\\\Project\\\\Project_Week_5\\\\Mini_Project_Week_5\\\\clean\\\\credit_account.csv\", index = False)\n",
    "credit_transactions.to_csv(\"D:\\\\Python(New)\\\\Project\\\\Project_Week_5\\\\Mini_Project_Week_5\\\\clean\\\\credit_transactions.csv\", index = False)"
   ]
  },
  {
   "cell_type": "code",
   "execution_count": 11,
   "id": "1181edc5-2a9f-4dac-82db-b397fca50292",
   "metadata": {},
   "outputs": [
    {
     "data": {
      "text/plain": [
       "acct_type  account_active\n",
       "CK         Y                 468\n",
       "CC         Y                 423\n",
       "SV         Y                 375\n",
       "CK         N                  52\n",
       "SV         N                  46\n",
       "CC         N                  45\n",
       "dtype: int64"
      ]
     },
     "execution_count": 11,
     "metadata": {},
     "output_type": "execute_result"
    }
   ],
   "source": [
    "accounts[['acct_type','account_active']].value_counts()"
   ]
  },
  {
   "cell_type": "markdown",
   "id": "dcc35b79-9e74-4a16-a18f-91a2ebac3fe7",
   "metadata": {},
   "source": [
    "We have 375 active saving accounts and 423 credit accounts in total of 1266 active accounts"
   ]
  },
  {
   "cell_type": "code",
   "execution_count": null,
   "id": "43cb8822-60a5-4e15-8193-8ee8b9ebfe66",
   "metadata": {},
   "outputs": [],
   "source": []
  }
 ],
 "metadata": {
  "kernelspec": {
   "display_name": "pandas_playground",
   "language": "python",
   "name": "pandas_playground"
  },
  "language_info": {
   "codemirror_mode": {
    "name": "ipython",
    "version": 3
   },
   "file_extension": ".py",
   "mimetype": "text/x-python",
   "name": "python",
   "nbconvert_exporter": "python",
   "pygments_lexer": "ipython3",
   "version": "3.10.6"
  }
 },
 "nbformat": 4,
 "nbformat_minor": 5
}
